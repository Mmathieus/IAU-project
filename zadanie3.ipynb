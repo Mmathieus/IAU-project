{
 "cells": [
  {
   "cell_type": "markdown",
   "metadata": {},
   "source": [
    "# **Róbert Šafár** & **Matúš Totcimak**\n",
    "## 3. fáza: *Strojové učenie*\n",
    "#### Dataset 82\n",
    "#### Podiel práce 50:50\n",
    "#\n",
    "#"
   ]
  },
  {
   "cell_type": "code",
   "execution_count": null,
   "metadata": {},
   "outputs": [],
   "source": [
    "import matplotlib.pyplot as plt\n",
    "import seaborn as sns\n",
    "import pandas as pd\n",
    "import numpy as np\n",
    "import scipy.stats as stats\n",
    "import statsmodels.api as sm\n",
    "from sklearn.model_selection import train_test_split\n",
    "from sklearn.preprocessing import StandardScaler, MinMaxScaler, RobustScaler\n",
    "from scipy.stats import shapiro\n",
    "from sklearn.preprocessing import PowerTransformer\n",
    "import math\n",
    "from sklearn.feature_selection import SelectKBest\n",
    "from sklearn.feature_selection import chi2\n",
    "from sklearn.feature_selection import f_classif\n",
    "from sklearn.feature_selection import RFE\n",
    "from sklearn.svm import SVR\n",
    "from sklearn.linear_model import Lasso\n",
    "from sklearn.pipeline import Pipeline\n",
    "from sklearn.base import BaseEstimator, TransformerMixin\n",
    "from sklearn.compose import ColumnTransformer\n",
    "from sklearn.preprocessing import QuantileTransformer\n",
    "from sklearn.ensemble import RandomForestClassifier\n",
    "from sklearn.neighbors import KNeighborsClassifier\n",
    "from sklearn.tree import plot_tree\n",
    "from sklearn.model_selection import GridSearchCV\n",
    "from sklearn.ensemble import BaggingClassifier\n",
    "from sklearn.model_selection import KFold, cross_val_score\n",
    "\n",
    "pd.set_option('display.max_columns', None)"
   ]
  },
  {
   "cell_type": "markdown",
   "metadata": {},
   "source": [
    "## Načítanie CSV súborov"
   ]
  },
  {
   "cell_type": "code",
   "execution_count": null,
   "metadata": {},
   "outputs": [],
   "source": [
    "con = pd.read_csv(\"dataset82/connections.csv\", sep='\\t')\n",
    "proc = pd.read_csv(\"dataset82/processes.csv\", sep='\\t')"
   ]
  },
  {
   "cell_type": "markdown",
   "metadata": {},
   "source": [
    "## Vstupné dáta v tejto fáze sú 'raw' dáta, preto vykonáme potrebné predspracovanie dát rovnako ako vo fáze 2."
   ]
  },
  {
   "cell_type": "markdown",
   "metadata": {},
   "source": [
    "### Pred spojením `Connections` a `Processes` odstránime duplikátne záznamy."
   ]
  },
  {
   "cell_type": "code",
   "execution_count": null,
   "metadata": {},
   "outputs": [],
   "source": [
    "con = con.loc[~con.duplicated()].reset_index(drop=True).copy()\n",
    "proc = proc.loc[~proc.duplicated()].reset_index(drop=True).copy()"
   ]
  },
  {
   "cell_type": "markdown",
   "metadata": {},
   "source": [
    "### Spojenie `Connections` a `Processes`."
   ]
  },
  {
   "cell_type": "code",
   "execution_count": null,
   "metadata": {},
   "outputs": [],
   "source": [
    "df = pd.merge(con, proc, on=['ts', 'imei', 'mwra'])"
   ]
  },
  {
   "cell_type": "markdown",
   "metadata": {},
   "source": [
    "### Overenie chýbajúcich hodnôt. Z `EDA` už vieme, že žiadne nie sú."
   ]
  },
  {
   "cell_type": "code",
   "execution_count": null,
   "metadata": {},
   "outputs": [],
   "source": [
    "df.isna().sum()[df.isna().sum() > 0]"
   ]
  },
  {
   "cell_type": "markdown",
   "metadata": {},
   "source": [
    "### Vymažeme atribút `imei`, pretože ho nepovažujeme za atribút, ktorý by určoval hodnotu `mwra`. Je to len identifikátor zariadení. Takisto aj `ts`."
   ]
  },
  {
   "cell_type": "code",
   "execution_count": null,
   "metadata": {},
   "outputs": [],
   "source": [
    "df = df.drop(columns=['ts', 'imei'])"
   ]
  },
  {
   "cell_type": "code",
   "execution_count": null,
   "metadata": {},
   "outputs": [],
   "source": [
    "# class OutlierDetection(BaseEstimator, TransformerMixin):\n",
    "#     def fit(self, X, y=None):\n",
    "#         self.thresholds_ = {}\n",
    "#         for col in X.columns:\n",
    "#             if col == 'c.updateassist' or col == 'mwra':\n",
    "#                 continue\n",
    "#             Q1 = X[col].quantile(0.25)\n",
    "#             Q3 = X[col].quantile(0.75)\n",
    "#             IQR = Q3 - Q1\n",
    "#             self.thresholds_[col] = (Q1 - 1.5 * IQR, Q3 + 1.5 * IQR)\n",
    "#         return self\n",
    "\n",
    "#     def transform(self, X, y=None):\n",
    "#         X_transformed = X.copy()\n",
    "\n",
    "#         X_transformed = X_transformed[X_transformed['c.updateassist'] <= 5]\n",
    "\n",
    "#         for col, (lower_bound, upper_bound) in self.thresholds_.items():\n",
    "#             if col == 'c.updateassist' or col == 'mwra':\n",
    "#                 continue\n",
    "#             X_transformed[col] = np.where(X_transformed[col] < lower_bound, lower_bound, X_transformed[col])\n",
    "#             X_transformed[col] = np.where(X_transformed[col] > upper_bound, upper_bound, X_transformed[col])\n",
    "\n",
    "#         return X_transformed"
   ]
  },
  {
   "cell_type": "markdown",
   "metadata": {},
   "source": [
    "### *`Funckia:`* Zmena outlierov na hraničné hodnoty."
   ]
  },
  {
   "cell_type": "code",
   "execution_count": null,
   "metadata": {},
   "outputs": [],
   "source": [
    "def change_outliers_iqr(df, exceptions):\n",
    "    for column in df:\n",
    "        if column in exceptions:\n",
    "            continue\n",
    "        \n",
    "        Q1 = df[column].quantile(0.25)\n",
    "        Q3 = df[column].quantile(0.75)\n",
    "        \n",
    "        IQR = Q3 - Q1\n",
    "        \n",
    "        lower_bound = Q1 - 1.5 * IQR\n",
    "        upper_bound = Q3 + 1.5 * IQR\n",
    "\n",
    "        df[column] = np.where(df[column] < lower_bound, lower_bound, df[column])\n",
    "        df[column] = np.where(df[column] > upper_bound, upper_bound, df[column])\n",
    "    \n",
    "    return df"
   ]
  },
  {
   "cell_type": "markdown",
   "metadata": {},
   "source": [
    "### Zmena outlierov pre všetky atribúty `df` okrem `df['c.updateassist']`."
   ]
  },
  {
   "cell_type": "code",
   "execution_count": null,
   "metadata": {},
   "outputs": [],
   "source": [
    "df = change_outliers_iqr(df=df, exceptions=['c.updateassist'])"
   ]
  },
  {
   "cell_type": "markdown",
   "metadata": {},
   "source": [
    "### Odstránenie záznamov, kde `df['c.updateassist'] >= 5`. Rovnako ako v `EDA`."
   ]
  },
  {
   "cell_type": "code",
   "execution_count": null,
   "metadata": {},
   "outputs": [],
   "source": [
    "lines_to_remove = df[df['c.updateassist'] > 5].index\n",
    "df = df.drop(lines_to_remove).copy()"
   ]
  },
  {
   "cell_type": "code",
   "execution_count": null,
   "metadata": {},
   "outputs": [],
   "source": [
    "print(df.shape)\n",
    "print(df['c.updateassist'].mean())\n",
    "print(df['c.dogalize'].mean())"
   ]
  },
  {
   "cell_type": "markdown",
   "metadata": {},
   "source": [
    "#\n",
    "### Aplikujeme Transformácie: `Yeo-Johnson`, na atribúty, ktoré sa podobajú na normálnu distribúciu a `Quantile`, na atribúty s uniformnou distribúciou, respektíve s nie-normálnou distribúciou, s cieľom získať normálne rozdelenie pre všetky atribúty.\n",
    "### Aplikujeme Škálovanie: `MinMax` pre jednotné rozsahy všetkých atribútov."
   ]
  },
  {
   "cell_type": "code",
   "execution_count": null,
   "metadata": {},
   "outputs": [],
   "source": [
    "yeo_johnson_columns = ['c.dogalize', 'c.android.chrome', 'c.katana', 'c.android.gm',\n",
    "                       'c.android.youtube', 'c.android.vending',\n",
    "                       'p.android.packageinstaller', 'p.android.externalstorage', 'p.system',\n",
    "                       'p.android.settings', 'p.android.documentsui', 'p.android.gm', 'p.katana',\n",
    "                       'p.google', 'p.android.gms', 'p.inputmethod.latin']\n",
    "\n",
    "quantile_columns = ['c.updateassist', 'c.UCMobile.x86', 'c.UCMobile.intl', 'c.raider', 'p.android.chrome', 'p.process.gapps',\n",
    "                    'p.olauncher', 'p.browser.provider', 'p.notifier', 'p.gms.persistent',\n",
    "                    'p.android.defcontainer', 'p.android.vending', 'p.simulator', 'p.dogalize']\n",
    "\n",
    "\n",
    "transformer = ColumnTransformer(\n",
    "    transformers=[\n",
    "        ('yeo_johnson', PowerTransformer(method='yeo-johnson'), yeo_johnson_columns),\n",
    "        ('quantile', QuantileTransformer(output_distribution='normal'), quantile_columns)\n",
    "    ],\n",
    "    remainder='passthrough',\n",
    "    verbose_feature_names_out=False\n",
    ")\n",
    "\n",
    "scaler = ColumnTransformer(\n",
    "    transformers=[\n",
    "        ('minmax', MinMaxScaler(), slice(0, 31))\n",
    "    ],\n",
    "    remainder='passthrough',\n",
    "    verbose_feature_names_out=False\n",
    ")\n",
    "\n",
    "pipeline = Pipeline(\n",
    "    steps=[\n",
    "        ('transformer', transformer),\n",
    "        ('scaler', scaler),\n",
    "    ]\n",
    ")\n",
    "\n",
    "transformed_data = pipeline.fit_transform(df)\n",
    "df = pd.DataFrame(transformed_data, columns=pipeline.get_feature_names_out())\n"
   ]
  },
  {
   "cell_type": "markdown",
   "metadata": {},
   "source": [
    "### `Funkcia:` Vykreslenie `KDE` grafov pre `DF`."
   ]
  },
  {
   "cell_type": "code",
   "execution_count": null,
   "metadata": {},
   "outputs": [],
   "source": [
    "def show_kde_graphs(df, attributes):\n",
    "    num_attributes = len(attributes)\n",
    "\n",
    "    if num_attributes == 0:\n",
    "        print(\"No attributes to show\")\n",
    "        return\n",
    "    \n",
    "    cols = min(5, num_attributes)\n",
    "    rows = math.ceil(num_attributes / cols)\n",
    "    \n",
    "    plt.figure(figsize=(cols * 4, rows * 4))\n",
    "\n",
    "    for i, column in enumerate(attributes):\n",
    "        plt.subplot(rows, cols, i + 1)\n",
    "        sns.kdeplot(df[column], fill=True, color='blue', alpha=0.5)\n",
    "        plt.title(column)\n",
    "        plt.xlabel('Hodnoty')\n",
    "        plt.ylabel('Hustota')\n",
    "\n",
    "    plt.tight_layout()\n",
    "    plt.show()"
   ]
  },
  {
   "cell_type": "code",
   "execution_count": null,
   "metadata": {},
   "outputs": [],
   "source": [
    "show_kde_graphs(df=df, attributes=df.drop(columns=\"mwra\").columns)"
   ]
  },
  {
   "cell_type": "markdown",
   "metadata": {},
   "source": [
    "### Môžeme vidieť, že najmä `Quantile` transformácia veľmi pomohla k normálemu rozdeleniu atribútov s predtým hlavne uniformnou distribúciou."
   ]
  },
  {
   "cell_type": "markdown",
   "metadata": {},
   "source": [
    "#\n",
    "### DataFrame rozdelíme na `data` a `target`."
   ]
  },
  {
   "cell_type": "code",
   "execution_count": null,
   "metadata": {},
   "outputs": [],
   "source": [
    "# Data\n",
    "X = df.drop(columns=['mwra'])\n",
    "\n",
    "# Target\n",
    "y = df[['mwra']]"
   ]
  },
  {
   "cell_type": "markdown",
   "metadata": {},
   "source": [
    "### Na výber najlepších `features` použijeme metódu `ANNOVA`, na základe fázy 2."
   ]
  },
  {
   "cell_type": "code",
   "execution_count": null,
   "metadata": {},
   "outputs": [],
   "source": [
    "selector = SelectKBest(score_func=f_classif, k=10)\n",
    "selector.fit_transform(X, y.values.ravel())\n",
    "names = X.columns[selector.get_support()]\n",
    "X = X[names]\n",
    "X.shape"
   ]
  },
  {
   "cell_type": "markdown",
   "metadata": {},
   "source": [
    "### Pomer rozdelenia ponecháme `80:20` ako vo fáze 2."
   ]
  },
  {
   "cell_type": "code",
   "execution_count": null,
   "metadata": {},
   "outputs": [],
   "source": [
    "X_train, X_test, y_train, y_test = train_test_split(X, y, random_state=11, test_size=0.2)"
   ]
  },
  {
   "cell_type": "markdown",
   "metadata": {},
   "source": [
    "#\n",
    "# **3.1 Jednoduchý klasifikátor na základe závislosti v dátach**"
   ]
  },
  {
   "cell_type": "markdown",
   "metadata": {},
   "source": [
    "#\n",
    "## *A) Naimplementujte jednoduchý ID3 klasifikátor s hĺbkou min 2 (vrátane root/koreň).*"
   ]
  },
  {
   "cell_type": "code",
   "execution_count": null,
   "metadata": {},
   "outputs": [],
   "source": [
    "from sklearn.tree import DecisionTreeClassifier\n",
    "cld = DecisionTreeClassifier(criterion='entropy', max_depth=8)"
   ]
  },
  {
   "cell_type": "markdown",
   "metadata": {},
   "source": [
    "#\n",
    "## *B) Vyhodnoťte Váš ID3 klasifikátor pomocou metrík accuracy, precision a recall.*"
   ]
  },
  {
   "cell_type": "code",
   "execution_count": null,
   "metadata": {},
   "outputs": [],
   "source": [
    "from sklearn.metrics import accuracy_score, precision_score, recall_score\n",
    "\n",
    "Dtrain = cld.fit(X_train, y_train).predict(X_train)\n",
    "Dtest = cld.fit(X_train, y_train).predict(X_test)"
   ]
  },
  {
   "cell_type": "code",
   "execution_count": null,
   "metadata": {},
   "outputs": [],
   "source": [
    "accuracy_score(y_test, Dtest)"
   ]
  },
  {
   "cell_type": "code",
   "execution_count": null,
   "metadata": {},
   "outputs": [],
   "source": [
    "precision_score(y_test, Dtest)"
   ]
  },
  {
   "cell_type": "code",
   "execution_count": null,
   "metadata": {},
   "outputs": [],
   "source": [
    "recall_score(y_test, Dtest)"
   ]
  },
  {
   "cell_type": "markdown",
   "metadata": {},
   "source": [
    "#\n",
    "## *C) Zistite či Váš ID3 klasifikátor má overfit.*"
   ]
  },
  {
   "cell_type": "code",
   "execution_count": null,
   "metadata": {},
   "outputs": [],
   "source": [
    "print(\"ACCURACY\")\n",
    "print(accuracy_score(y_train, Dtrain))\n",
    "print(accuracy_score(y_test, Dtest))\n",
    "print()\n",
    "\n",
    "print(\"PRECISION\")\n",
    "print(precision_score(y_train, Dtrain))\n",
    "print(precision_score(y_test, Dtest))\n",
    "print()\n",
    "\n",
    "print(\"RECALL\")\n",
    "print(recall_score(y_train, Dtrain))\n",
    "print(recall_score(y_test, Dtest))"
   ]
  },
  {
   "cell_type": "markdown",
   "metadata": {},
   "source": [
    "#\n",
    "# **3.2 Trénovanie a vyhodnotenie klasifikátorov strojového učenia**"
   ]
  },
  {
   "cell_type": "markdown",
   "metadata": {},
   "source": [
    "### `Funkcia:` Vypísanie metrík `accuracy`, `precision`, `recall` pre daný algoritmus."
   ]
  },
  {
   "cell_type": "code",
   "execution_count": null,
   "metadata": {},
   "outputs": [],
   "source": [
    "def show_3_metrics(W_train, W_test, y_train, y_test):\n",
    "    print(\"=== Model Evaluation Metrics ===\\n\")\n",
    "    print(f\"ACCURACY:\")\n",
    "    print(f\"  Training: {accuracy_score(y_train, W_train):.4f}\")\n",
    "    print(f\"  Testing : {accuracy_score(y_test, W_test):.4f}\\n\")\n",
    "\n",
    "    print(f\"PRECISION:\")\n",
    "    print(f\"  Training: {precision_score(y_train, W_train):.4f}\")\n",
    "    print(f\"  Testing : {precision_score(y_test, W_test):.4f}\\n\")\n",
    "\n",
    "    print(f\"RECALL:\")\n",
    "    print(f\"  Training: {recall_score(y_train, W_train):.4f}\")\n",
    "    print(f\"  Testing : {recall_score(y_test, W_test):.4f}\")"
   ]
  },
  {
   "cell_type": "markdown",
   "metadata": {},
   "source": [
    "#\n",
    "## *A) Na trénovanie využite jeden stromový algoritmus v scikit-learn.*"
   ]
  },
  {
   "cell_type": "markdown",
   "metadata": {},
   "source": [
    "### Rozhodli sme sa použiť `RandomForest` a ponechať defaultne nastavenia parametrov. Testovanie najlepších nastavení parametrov budeme realizovať v ďalľej časti."
   ]
  },
  {
   "cell_type": "code",
   "execution_count": null,
   "metadata": {},
   "outputs": [],
   "source": [
    "clr = RandomForestClassifier()\n",
    "\n",
    "Rtrain = clr.fit(X_train, y_train.values.ravel()).predict(X_train)\n",
    "Rtest = clr.fit(X_train, y_train.values.ravel()).predict(X_test)\n",
    "\n",
    "show_3_metrics(W_train=Rtrain, W_test=Rtest, y_train=y_train, y_test=y_test)"
   ]
  },
  {
   "cell_type": "markdown",
   "metadata": {},
   "source": [
    "#\n",
    "## *B) Porovnajte s jedným iným nestromovým algoritmom v scikit-learn.*"
   ]
  },
  {
   "cell_type": "markdown",
   "metadata": {},
   "source": [
    "### Rozhodli sme sa použiť `k-Nearest Neighbors` a ponechať defaultne nastavenia parametrov. Testovanie najlepších nastavení parametrov budeme realizovať v ďalľej časti."
   ]
  },
  {
   "cell_type": "code",
   "execution_count": null,
   "metadata": {},
   "outputs": [],
   "source": [
    "clk = KNeighborsClassifier()\n",
    "\n",
    "Ktrain = clk.fit(X_train, y_train.values.ravel()).predict(X_train)\n",
    "Ktest = clk.fit(X_train, y_train.values.ravel()).predict(X_test)\n",
    "\n",
    "show_3_metrics(W_train=Ktrain, W_test=Ktest, y_train=y_train, y_test=y_test)"
   ]
  },
  {
   "cell_type": "markdown",
   "metadata": {},
   "source": [
    "#\n",
    "## *C) Porovnajte výsledky s ID3 z prvého kroku.*"
   ]
  },
  {
   "cell_type": "markdown",
   "metadata": {},
   "source": [
    "#\n",
    "## *D) Vizualizujte natrénované pravidlá minimálne pre jeden Vami vybraný algoritmus.*"
   ]
  },
  {
   "cell_type": "markdown",
   "metadata": {},
   "source": [
    "### Vizualizácia `RandomForest` nášho modelu s hĺbkou 2."
   ]
  },
  {
   "cell_type": "code",
   "execution_count": null,
   "metadata": {},
   "outputs": [],
   "source": [
    "plt.figure(figsize=(15, 8))\n",
    "plot_tree(clr.estimators_[0], feature_names=X.columns, class_names=['0', '1'], filled=True, max_depth=2)\n",
    "plt.show()"
   ]
  },
  {
   "cell_type": "markdown",
   "metadata": {},
   "source": [
    "### Vizualizácia `RandomForest` nášho modelu s maximálnou hĺbkou."
   ]
  },
  {
   "cell_type": "code",
   "execution_count": null,
   "metadata": {},
   "outputs": [],
   "source": [
    "plt.figure(figsize=(15, 8))\n",
    "plot_tree(clr.estimators_[0], feature_names=X.columns, class_names=['0', '1'], filled=True, max_depth=None)\n",
    "plt.show()"
   ]
  },
  {
   "cell_type": "markdown",
   "metadata": {},
   "source": [
    "#\n",
    "## *E) Vyhodnoťte natrénované modely pomocou metrík accuracy, precision a recall.*"
   ]
  },
  {
   "cell_type": "markdown",
   "metadata": {},
   "source": [
    "#\n",
    "# **3.3 Optimalizácia alias hyperparameter tuning**"
   ]
  },
  {
   "cell_type": "markdown",
   "metadata": {},
   "source": [
    "#\n",
    "## *A) Vyskúšajte rôzne nastavenie hyperparametrov (tuning) pre zvolený algoritmus tak, aby ste optimalizovali výkonnosť (bez underfitingu).*"
   ]
  },
  {
   "cell_type": "code",
   "execution_count": null,
   "metadata": {},
   "outputs": [],
   "source": [
    "grid_param = {\n",
    "    'n_estimators': [50, 100],\n",
    "    'max_depth': [6, 8, 10, 12]\n",
    "}\n",
    "\n",
    "grid_search = GridSearchCV(estimator=clr, param_grid=grid_param, cv=5, scoring='accuracy')\n",
    "grid_result = grid_search.fit(X_train, y_train.values.ravel())\n",
    "\n",
    "print(\"Best Parameters:\", grid_result.best_params_)\n",
    "print(\"Best Cross-Validation Score:\", grid_result.best_score_)"
   ]
  },
  {
   "cell_type": "markdown",
   "metadata": {},
   "source": [
    "#\n",
    "## *B) Vyskúšajte kombinácie modelov (ensemble) pre zvolený algoritmus tak, aby ste optimalizovali výkonnosť (bez underfitingu).*"
   ]
  },
  {
   "cell_type": "code",
   "execution_count": null,
   "metadata": {},
   "outputs": [],
   "source": []
  },
  {
   "cell_type": "code",
   "execution_count": null,
   "metadata": {},
   "outputs": [],
   "source": [
    "bagging = BaggingClassifier(estimator=clr, n_estimators=10, random_state=42)\n",
    "bagging.fit(X_train, y_train.values.ravel())\n",
    "print(bagging.score(X_test, y_test))"
   ]
  },
  {
   "cell_type": "markdown",
   "metadata": {},
   "source": [
    "#\n",
    "## *C) Využite krížovú validáciu (cross validation) na trénovacej množine.*"
   ]
  },
  {
   "cell_type": "code",
   "execution_count": null,
   "metadata": {},
   "outputs": [],
   "source": []
  },
  {
   "cell_type": "code",
   "execution_count": null,
   "metadata": {},
   "outputs": [],
   "source": [
    "kfold = KFold()\n",
    "cv_result = cross_val_score(estimator=clr, X=X_train, y=y_train.values.ravel(), cv=kfold, scoring='accuracy')"
   ]
  },
  {
   "cell_type": "code",
   "execution_count": null,
   "metadata": {},
   "outputs": [],
   "source": [
    "print(cv_result)\n",
    "print(cv_result.mean())"
   ]
  },
  {
   "cell_type": "markdown",
   "metadata": {},
   "source": [
    "#\n",
    "## *D) Dokážte že Váš nastavený najlepší model je bez overfitingu.*"
   ]
  },
  {
   "cell_type": "markdown",
   "metadata": {},
   "source": [
    "#\n",
    "# **3.4 Vyhodnotenie vplyvu zvolenej stratégie riešenia na klasifikáciu**"
   ]
  },
  {
   "cell_type": "markdown",
   "metadata": {},
   "source": [
    "#\n",
    "## *A) Stratégie riešenia chýbajúcich hodnôt a outlierov.*"
   ]
  },
  {
   "cell_type": "markdown",
   "metadata": {},
   "source": [
    "#\n",
    "## *B) Dátová transformácia (scaling, transformer, ...).*"
   ]
  },
  {
   "cell_type": "markdown",
   "metadata": {},
   "source": [
    "#\n",
    "## *C) Výber atribútov, výber algoritmov, hyperparameter tuning, ensemble learning.*"
   ]
  },
  {
   "cell_type": "markdown",
   "metadata": {},
   "source": [
    "#\n",
    "## *D) Ktorý model je Váš najlepší model pre nasadenie (deployment)?*"
   ]
  },
  {
   "cell_type": "markdown",
   "metadata": {},
   "source": [
    "#\n",
    "## *E) Aký je data pipeline pre jeho vybudovanie na základe Vášho datasetu v produkcii?*"
   ]
  }
 ],
 "metadata": {
  "kernelspec": {
   "display_name": "Python 3",
   "language": "python",
   "name": "python3"
  },
  "language_info": {
   "codemirror_mode": {
    "name": "ipython",
    "version": 3
   },
   "file_extension": ".py",
   "mimetype": "text/x-python",
   "name": "python",
   "nbconvert_exporter": "python",
   "pygments_lexer": "ipython3",
   "version": "3.12.7"
  }
 },
 "nbformat": 4,
 "nbformat_minor": 2
}
