{
 "cells": [
  {
   "cell_type": "code",
   "execution_count": 1,
   "metadata": {},
   "outputs": [],
   "source": [
    "import matplotlib.pyplot as plt\n",
    "import seaborn as sns\n",
    "import pandas as pd\n",
    "import numpy as np\n",
    "import scipy.stats as stats"
   ]
  },
  {
   "cell_type": "code",
   "execution_count": 2,
   "metadata": {},
   "outputs": [],
   "source": [
    "con = pd.read_csv(\"dataset82/connections.csv\", sep='\\t')\n",
    "proc = pd.read_csv(\"dataset82/processes.csv\", sep='\\t')\n",
    "dev = pd.read_csv(\"dataset82/devices.csv\", sep='\\t')\n",
    "prof = pd.read_csv(\"dataset82/profiles.csv\", sep='\\t')"
   ]
  },
  {
   "cell_type": "markdown",
   "metadata": {},
   "source": [
    "# 1.1 Základný opis dát spolu s ich charakteristikami"
   ]
  },
  {
   "cell_type": "markdown",
   "metadata": {},
   "source": [
    "## A"
   ]
  },
  {
   "cell_type": "markdown",
   "metadata": {},
   "source": [
    "### First look at data"
   ]
  },
  {
   "cell_type": "code",
   "execution_count": 3,
   "metadata": {},
   "outputs": [],
   "source": [
    "# con.head()\n",
    "# proc.head()\n",
    "# dev.head()\n",
    "# prof.head()"
   ]
  },
  {
   "cell_type": "markdown",
   "metadata": {},
   "source": [
    "### DataFrame information (rows, columns, types, ...)"
   ]
  },
  {
   "cell_type": "code",
   "execution_count": 4,
   "metadata": {},
   "outputs": [],
   "source": [
    "# con.info()\n",
    "# proc.info()\n",
    "# dev.info()\n",
    "# prof.info()\n",
    "\n",
    "# .dtypes\n",
    "# .columns\n",
    "# .shape"
   ]
  },
  {
   "cell_type": "markdown",
   "metadata": {},
   "source": [
    "### Important DataFrame values"
   ]
  },
  {
   "cell_type": "code",
   "execution_count": 5,
   "metadata": {},
   "outputs": [],
   "source": [
    "# con.describe()\n",
    "# proc.describe()\n",
    "# dev.describe()\n",
    "# prof.describe()"
   ]
  },
  {
   "cell_type": "markdown",
   "metadata": {},
   "source": [
    "## B"
   ]
  },
  {
   "cell_type": "code",
   "execution_count": 6,
   "metadata": {},
   "outputs": [],
   "source": [
    "#prof['UserID'].value_counts()\n",
    "#prof['Username'].value_counts()"
   ]
  },
  {
   "cell_type": "code",
   "execution_count": 7,
   "metadata": {},
   "outputs": [],
   "source": [
    "# con['Chrome'].plot(kind=\"kde\")"
   ]
  },
  {
   "cell_type": "code",
   "execution_count": null,
   "metadata": {},
   "outputs": [],
   "source": [
    "attributes =  pd.DataFrame()\n",
    "attributes['c.dogalize'] = con['c.dogalize']\n",
    "attributes['c.katana'] = con['c.katana']\n",
    "attributes['c.android.gm'] = con['c.android.gm']\n",
    "attributes['p.android.packageinstaller'] = proc['p.android.packageinstaller']\n",
    "attributes['p.android.externalstorage'] = proc['p.android.externalstorage']\n",
    "attributes['p.system'] = proc['p.system']\n",
    "attributes['p.android.chrome'] = proc['p.android.chrome']\n",
    "attributes['p.android.settings'] = proc['p.android.settings']\n",
    "attributes['p.android.documentsui'] = proc['p.android.documentsui']\n",
    "attributes['p.android.gm'] = proc['p.android.gm']"
   ]
  },
  {
   "cell_type": "code",
   "execution_count": null,
   "metadata": {},
   "outputs": [],
   "source": [
    "pom = attributes.describe()"
   ]
  },
  {
   "cell_type": "code",
   "execution_count": null,
   "metadata": {},
   "outputs": [],
   "source": [
    "temp = attributes.mode().mean()\n",
    "temp = pd.DataFrame({'mode': temp})\n",
    "temp = temp.T\n",
    "pom2 = pd.concat([pom, temp])"
   ]
  },
  {
   "cell_type": "code",
   "execution_count": null,
   "metadata": {},
   "outputs": [],
   "source": [
    "temp =attributes.median()\n",
    "temp = pd.DataFrame({'median': temp})\n",
    "temp = temp.T\n",
    "pom3 = pd.concat([pom2, temp])\n",
    "pom3"
   ]
  },
  {
   "cell_type": "code",
   "execution_count": null,
   "metadata": {},
   "outputs": [],
   "source": [
    "attributes.plot(kind='kde', subplots=True, layout=(4, 3), figsize=(10, 15))\n",
    "plt.show()"
   ]
  },
  {
   "cell_type": "code",
   "execution_count": null,
   "metadata": {},
   "outputs": [],
   "source": [
    "attributes.plot(kind='box', figsize=(12, 8), rot=90)"
   ]
  },
  {
   "cell_type": "markdown",
   "metadata": {},
   "source": [
    "## C"
   ]
  },
  {
   "cell_type": "code",
   "execution_count": 8,
   "metadata": {},
   "outputs": [],
   "source": [
    "# con.plot(kind=\"scatter\", x=\"Chrome\", y=\"Malware\")\n",
    "# plt.show()"
   ]
  },
  {
   "cell_type": "code",
   "execution_count": 9,
   "metadata": {},
   "outputs": [],
   "source": [
    "# sns.scatterplot(data=con, x='ID', y='Chrome', hue='DateTime')\n",
    "# plt.show()"
   ]
  },
  {
   "cell_type": "code",
   "execution_count": null,
   "metadata": {},
   "outputs": [],
   "source": [
    "con2=con[[#'ts', 'imei', \n",
    "    'mwra', \n",
    "        'c.dogalize', 'c.android.chrome', 'c.katana',\n",
    "       'c.android.gm', 'c.android.youtube', 'c.android.vending',\n",
    "       'c.updateassist', 'c.UCMobile.x86', 'c.UCMobile.intl', 'c.raider']].copy()\n",
    "\n",
    "con_corr2=con2.corr()\n",
    "\n",
    "fig, ax = plt.subplots(figsize=(11,11))\n",
    "\n",
    "sns.heatmap(con_corr2, annot=True)"
   ]
  },
  {
   "cell_type": "code",
   "execution_count": null,
   "metadata": {},
   "outputs": [],
   "source": [
    "proc2 = proc[[#'ts', 'imei', \n",
    "        'mwra', \n",
    "        'p.android.packageinstaller',\n",
    "       'p.android.externalstorage', 'p.system', 'p.android.chrome',\n",
    "       'p.android.settings', 'p.android.documentsui', 'p.android.gm',\n",
    "       'p.katana', 'p.google', 'p.android.gms', 'p.inputmethod.latin',\n",
    "       'p.process.gapps', 'p.olauncher', 'p.browser.provider', 'p.notifier',\n",
    "       'p.gms.persistent', 'p.android.defcontainer', 'p.android.vending',\n",
    "       'p.simulator', 'p.dogalize']].copy()\n",
    "\n",
    "proc_corr1=proc2.corr()\n",
    "\n",
    "fig, ax = plt.subplots(figsize=(25,25))\n",
    "\n",
    "sns.heatmap(proc_corr1, annot=True)"
   ]
  },
  {
   "cell_type": "code",
   "execution_count": null,
   "metadata": {},
   "outputs": [],
   "source": [
    "con_proc = pd.merge(con, proc, on=['ts', 'imei', 'mwra'])\n",
    "\n",
    "pd.set_option('display.max_columns', None) \n",
    "con_proc.head()"
   ]
  },
  {
   "cell_type": "code",
   "execution_count": null,
   "metadata": {},
   "outputs": [],
   "source": [
    "con_proc_corr=con_proc.drop(columns=['ts', 'imei']).corr()\n",
    "\n",
    "fig, ax = plt.subplots(figsize=(30,30))\n",
    "\n",
    "sns.heatmap(con_proc_corr, annot=True)"
   ]
  },
  {
   "cell_type": "markdown",
   "metadata": {},
   "source": [
    "## D"
   ]
  },
  {
   "cell_type": "code",
   "execution_count": null,
   "metadata": {},
   "outputs": [],
   "source": [
    "mwra_corr = con_proc_corr['mwra'].drop('mwra').sort_values(ascending=False)"
   ]
  },
  {
   "cell_type": "code",
   "execution_count": null,
   "metadata": {},
   "outputs": [],
   "source": [
    "mwra_corr.plot(kind='bar', figsize=(15, 10))\n",
    "plt.show()"
   ]
  },
  {
   "cell_type": "code",
   "execution_count": null,
   "metadata": {},
   "outputs": [],
   "source": [
    "sns.pairplot(con2.head(500), hue='mwra')\n",
    "plt.plot()"
   ]
  },
  {
   "cell_type": "markdown",
   "metadata": {},
   "source": [
    "## E"
   ]
  },
  {
   "cell_type": "markdown",
   "metadata": {},
   "source": [
    "# 1.1 summary\n",
    "Data description:\n",
    "- separator = \\t\n",
    "- header included everywhere\n",
    "- row and columns count\n",
    "- NA pocty\n"
   ]
  },
  {
   "cell_type": "markdown",
   "metadata": {},
   "source": [
    "# 1.2 Identifikácia problémov, integrácia a čistenie dát"
   ]
  },
  {
   "cell_type": "markdown",
   "metadata": {},
   "source": [
    "## A"
   ]
  },
  {
   "cell_type": "markdown",
   "metadata": {},
   "source": [
    "### Columns name"
   ]
  },
  {
   "cell_type": "code",
   "execution_count": 10,
   "metadata": {},
   "outputs": [],
   "source": [
    "# con.columns\n",
    "# proc.columns\n",
    "# dev.columns\n",
    "# prof.columns"
   ]
  },
  {
   "cell_type": "markdown",
   "metadata": {},
   "source": [
    "### Columns rename"
   ]
  },
  {
   "cell_type": "code",
   "execution_count": 11,
   "metadata": {},
   "outputs": [],
   "source": [
    "con = con.rename(columns={  'ts':'DateTime',\n",
    "                            'imei':'ID',\n",
    "                            'mwra':'Malware',\n",
    "                            'c.dogalize':'Dogalize',\n",
    "                            'c.android.chrome':'Chrome',\n",
    "                            'c.katana':'Katana',\n",
    "                            'c.android.gm':'Gm',\n",
    "                            'c.android.youtube':'Youtube',\n",
    "                            'c.android.vending':'Vending',\n",
    "                            'c.updateassist':'Update_Assist',\n",
    "                            'c.UCMobile.x86':'UCMobile_x86',\n",
    "                            'c.UCMobile.intl':'UCMobile_intl',\n",
    "                            'c.raider':'Raider'})\n",
    "\n",
    "proc = proc.rename(columns={'ts':'DateTime',\n",
    "                            'imei':'ID',\n",
    "                            'mwra':'Malware',\n",
    "                            'p.android.packageinstaller':'Package_Installer',\n",
    "                            'p.android.externalstorage':'External_Storage',\n",
    "                            'p.system':'System',\n",
    "                            'p.android.chrome':'Chrome',\n",
    "                            'p.android.settings':'Settings',\n",
    "                            'p.android.documentsui':'Document_Sui',\n",
    "                            'p.android.gm':'Gm',\n",
    "                            'p.katana':'Katana',\n",
    "                            'p.google':'Google',\n",
    "                            'p.android.gms':'Gms',\n",
    "                            'p.inputmethod.latin':'InputMethod_Latin',\n",
    "                            'p.process.gapps':'Process_Gapps',\n",
    "                            'p.olauncher':'OLauncher',\n",
    "                            'p.browser.provider':'Browser_Provider',\n",
    "                            'p.notifier':'Notifier',\n",
    "                            'p.gms.persistent':'Gms_Persistent',\n",
    "                            'p.android.defcontainer':'Def_Container',\n",
    "                            'p.android.vending':'Vending',\n",
    "                            'p.simulator':'Simulator',\n",
    "                            'p.dogalize':'Dogalize'})\n",
    "\n",
    "dev = dev.rename(columns={  'latitude':'Width',\n",
    "                            'longitude':'Length',\n",
    "                            'store_name':'City',\n",
    "                            'code':'Country',\n",
    "                            'location':'Location',\n",
    "                            'imei':'ID'})\n",
    "\n",
    "prof = prof.rename(columns={'job':'Job',\n",
    "                            'current_location':'Coordinates',\n",
    "                            'imei':'ID',\n",
    "                            'user_id':'UserID',\n",
    "                            'address':'Adress',\n",
    "                            'ssn':'SSN',\n",
    "                            'company':'Company',\n",
    "                            'birthdate':'Birthdate',\n",
    "                            'registration':'Registration',\n",
    "                            'mail':'Email',\n",
    "                            'username':'Username',\n",
    "                            'name':'Name'})"
   ]
  },
  {
   "cell_type": "markdown",
   "metadata": {},
   "source": [
    "### Columns re-order"
   ]
  },
  {
   "cell_type": "code",
   "execution_count": 12,
   "metadata": {},
   "outputs": [],
   "source": [
    "con = con[[   'ID', 'Malware', 'DateTime', 'Chrome',\n",
    "        'Youtube', 'Dogalize', 'Katana', 'Raider', 'Gm',\n",
    "        'Vending', 'Update_Assist', 'UCMobile_x86', 'UCMobile_intl']]\n",
    "\n",
    "proc = proc[[  'ID', 'Malware', 'DateTime', 'Chrome',\n",
    "        'Google', 'Dogalize', 'Katana', 'Gm',\n",
    "        'Vending', 'System', 'Settings', 'Simulator',\n",
    "        'Notifier', 'Gms', 'Gms_Persistent', 'Document_Sui',\n",
    "        'Package_Installer', 'External_Storage', 'InputMethod_Latin',\n",
    "        'Process_Gapps', 'OLauncher', 'Browser_Provider',   'Def_Container']]\n",
    "\n",
    "dev = dev[['ID', 'Country', 'City', 'Location', 'Width', 'Length']]\n",
    "\n",
    "prof = prof[[  'ID', 'UserID', 'Username', 'Name', 'Email', 'Birthdate',\n",
    "        'Job', 'Adress', 'SSN', 'Company',  \n",
    "        'Registration', 'Coordinates']]"
   ]
  },
  {
   "cell_type": "markdown",
   "metadata": {},
   "source": [
    "### Columns type conversion"
   ]
  },
  {
   "cell_type": "code",
   "execution_count": 13,
   "metadata": {},
   "outputs": [],
   "source": [
    "con['DateTime'] = pd.to_datetime(con['DateTime'])\n",
    "con['Malware'] = con['Malware'].astype(int)\n",
    "\n",
    "proc['DateTime'] = pd.to_datetime(proc['DateTime'])\n",
    "proc['Malware'] = proc['Malware'].astype(int)\n",
    "\n",
    "# dev['City'] = dev['City'].astype(str)\n",
    "# dev['Country'] = dev['Country'].astype(str)\n",
    "# dev['Location'] = dev['Location'].astype(str)\n",
    "\n",
    "# prof['Job'] =  prof['Job'].astype(str)\n",
    "##* prof['Coordinates']\n",
    "# prof['Adress'] =  prof['Adress'].astype(str)\n",
    "# prof['SSN'] =  prof['SSN'].astype(str)\n",
    "# prof['Company'] =  prof['Company'].astype(str)\n",
    "prof['Birthdate'] =  pd.to_datetime(prof['Birthdate'])\n",
    "\n",
    "# Profiles Registration column CONVERSION\n",
    "def convert_mixed_date(date_str):\n",
    "    try:\n",
    "        return pd.to_datetime(date_str)\n",
    "    except:\n",
    "        try:\n",
    "            # (YYYY-MM-DD)\n",
    "            return pd.to_datetime(date_str, format='%Y-%m-%d')\n",
    "        except ValueError:\n",
    "            try:\n",
    "                # (MM/DD/YYYY, HH:MM:SS)\n",
    "                return pd.to_datetime(date_str, format='%m/%d/%Y, %H:%M:%S')\n",
    "            except ValueError:\n",
    "                try:\n",
    "                    # (07 Oct 2023)\n",
    "                    return pd.to_datetime(date_str, format='%d %b %Y')\n",
    "                except ValueError:\n",
    "                    return pd.NaT\n",
    "\n",
    "prof['Registration'] = prof['Registration'].apply(convert_mixed_date)\n",
    "# prof['Email'] =  prof['Email'].astype(str)\n",
    "# prof['UserName'] =  prof['UserName'].astype(str)\n",
    "# prof['Name'] =  prof['Name'].astype(str)"
   ]
  },
  {
   "cell_type": "markdown",
   "metadata": {},
   "source": [
    "### Missing values"
   ]
  },
  {
   "cell_type": "code",
   "execution_count": 14,
   "metadata": {},
   "outputs": [
    {
     "data": {
      "text/plain": [
       "ID                 0\n",
       "UserID             0\n",
       "Username           0\n",
       "Name               0\n",
       "Email              0\n",
       "Birthdate       1133\n",
       "Job             1762\n",
       "Adress           378\n",
       "SSN                0\n",
       "Company            0\n",
       "Registration       0\n",
       "Coordinates      126\n",
       "dtype: int64"
      ]
     },
     "execution_count": 14,
     "metadata": {},
     "output_type": "execute_result"
    }
   ],
   "source": [
    "# con.isna().sum() # 0\n",
    "# proc.isna().sum() # 0\n",
    "# dev.isna().sum() # Country: 1\n",
    "prof.isna().sum()"
   ]
  },
  {
   "cell_type": "markdown",
   "metadata": {},
   "source": [
    "### Duplicated rows"
   ]
  },
  {
   "cell_type": "code",
   "execution_count": 15,
   "metadata": {},
   "outputs": [
    {
     "name": "stdout",
     "output_type": "stream",
     "text": [
      "180 180 6 0\n"
     ]
    }
   ],
   "source": [
    "print(\n",
    "    con.duplicated().sum(), proc.duplicated().sum(), dev.duplicated().sum(), prof.duplicated().sum()\n",
    ")"
   ]
  },
  {
   "cell_type": "markdown",
   "metadata": {},
   "source": [
    "### Duplicated rows - DELETED"
   ]
  },
  {
   "cell_type": "code",
   "execution_count": 16,
   "metadata": {},
   "outputs": [
    {
     "name": "stdout",
     "output_type": "stream",
     "text": [
      "BEFORE: 15163 15163 2983 2517\n"
     ]
    }
   ],
   "source": [
    "print(\n",
    "    \"BEFORE:\", con.shape[0], proc.shape[0], dev.shape[0], prof.shape[0]\n",
    ")"
   ]
  },
  {
   "cell_type": "code",
   "execution_count": 17,
   "metadata": {},
   "outputs": [],
   "source": [
    "con = con.loc[~con.duplicated()].reset_index(drop=True).copy()\n",
    "proc = proc.loc[~proc.duplicated()].reset_index(drop=True).copy()\n",
    "dev = dev.loc[~dev.duplicated()].reset_index(drop=True).copy()"
   ]
  },
  {
   "cell_type": "code",
   "execution_count": 18,
   "metadata": {},
   "outputs": [
    {
     "name": "stdout",
     "output_type": "stream",
     "text": [
      "AFTER: 14983 14983 2977 2517\n"
     ]
    }
   ],
   "source": [
    "print(\n",
    "    \"AFTER:\", con.shape[0], proc.shape[0], dev.shape[0], prof.shape[0]\n",
    ")"
   ]
  },
  {
   "cell_type": "markdown",
   "metadata": {},
   "source": [
    "## B"
   ]
  },
  {
   "cell_type": "code",
   "execution_count": 19,
   "metadata": {},
   "outputs": [
    {
     "data": {
      "text/plain": [
       "ID                 0\n",
       "UserID             0\n",
       "Username           0\n",
       "Name               0\n",
       "Email              0\n",
       "Birthdate       1133\n",
       "Job             1762\n",
       "Adress           378\n",
       "SSN                0\n",
       "Company            0\n",
       "Registration       0\n",
       "Coordinates      126\n",
       "dtype: int64"
      ]
     },
     "execution_count": 19,
     "metadata": {},
     "output_type": "execute_result"
    }
   ],
   "source": [
    "prof.isna().sum()"
   ]
  },
  {
   "cell_type": "code",
   "execution_count": 20,
   "metadata": {},
   "outputs": [],
   "source": [
    "# prof['Birthdate'] = prof['Birthdate'].fillna('not included')\n",
    "# prof['Birthdate'] = prof['Birthdate'].replace('not included', pd.NaT)"
   ]
  },
  {
   "cell_type": "markdown",
   "metadata": {},
   "source": [
    "# 1.3 Formulácia a štatistické overenie hypotéz o dátach"
   ]
  },
  {
   "cell_type": "markdown",
   "metadata": {},
   "source": [
    "## A"
   ]
  },
  {
   "cell_type": "markdown",
   "metadata": {},
   "source": [
    "## B"
   ]
  },
  {
   "cell_type": "markdown",
   "metadata": {},
   "source": [
    "# EXTRA"
   ]
  },
  {
   "cell_type": "code",
   "execution_count": 21,
   "metadata": {},
   "outputs": [],
   "source": [
    "con.to_csv('dataset82_edited/Connections.csv', index=False)\n",
    "proc.to_csv('dataset82_edited/Processes.csv', index=False)\n",
    "dev.to_csv('dataset82_edited/Devices.csv', index=False)\n",
    "prof.to_csv('dataset82_edited/Profiles.csv', index=False)"
   ]
  }
 ],
 "metadata": {
  "kernelspec": {
   "display_name": "Python 3",
   "language": "python",
   "name": "python3"
  },
  "language_info": {
   "codemirror_mode": {
    "name": "ipython",
    "version": 3
   },
   "file_extension": ".py",
   "mimetype": "text/x-python",
   "name": "python",
   "nbconvert_exporter": "python",
   "pygments_lexer": "ipython3",
   "version": "3.12.5"
  }
 },
 "nbformat": 4,
 "nbformat_minor": 2
}
