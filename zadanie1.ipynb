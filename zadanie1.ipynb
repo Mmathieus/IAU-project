{
 "cells": [
  {
   "cell_type": "markdown",
   "metadata": {},
   "source": [
    "# **Róbert Šafár** & **Matúš Totcimak**\n",
    "## 1. fáza: *Prieskumná analýza - EDA*\n",
    "#### Dataset 82\n",
    "#### Podiel práce 50:50\n",
    "#\n",
    "#"
   ]
  },
  {
   "cell_type": "code",
   "execution_count": 1,
   "metadata": {},
   "outputs": [],
   "source": [
    "import matplotlib.pyplot as plt\n",
    "import seaborn as sns\n",
    "import pandas as pd\n",
    "import numpy as np\n",
    "import scipy.stats as stats\n",
    "import statsmodels.api as sm\n",
    "import re"
   ]
  },
  {
   "cell_type": "markdown",
   "metadata": {},
   "source": [
    "## Načítanie CSV súborov"
   ]
  },
  {
   "cell_type": "code",
   "execution_count": 2,
   "metadata": {},
   "outputs": [],
   "source": [
    "con = pd.read_csv(\"dataset82/connections.csv\", sep='\\t')\n",
    "proc = pd.read_csv(\"dataset82/processes.csv\", sep='\\t')\n",
    "dev = pd.read_csv(\"dataset82/devices.csv\", sep='\\t')\n",
    "prof = pd.read_csv(\"dataset82/profiles.csv\", sep='\\t')"
   ]
  },
  {
   "cell_type": "markdown",
   "metadata": {},
   "source": [
    "#\n",
    "# **1.1 Základný opis dát spolu s ich charakteristikami**"
   ]
  },
  {
   "cell_type": "markdown",
   "metadata": {},
   "source": [
    "#\n",
    "## *A) Analýza štruktúr dát ako súbory, záznamy*"
   ]
  },
  {
   "cell_type": "markdown",
   "metadata": {},
   "source": [
    "### Prvý pohľad na dáta."
   ]
  },
  {
   "cell_type": "markdown",
   "metadata": {},
   "source": [
    "#### Connections"
   ]
  },
  {
   "cell_type": "code",
   "execution_count": null,
   "metadata": {},
   "outputs": [],
   "source": [
    "con.head()"
   ]
  },
  {
   "cell_type": "markdown",
   "metadata": {},
   "source": [
    "#### Processes"
   ]
  },
  {
   "cell_type": "code",
   "execution_count": null,
   "metadata": {},
   "outputs": [],
   "source": [
    "proc.head()"
   ]
  },
  {
   "cell_type": "markdown",
   "metadata": {},
   "source": [
    "#### Devices"
   ]
  },
  {
   "cell_type": "code",
   "execution_count": null,
   "metadata": {},
   "outputs": [],
   "source": [
    "dev.head()"
   ]
  },
  {
   "cell_type": "markdown",
   "metadata": {},
   "source": [
    "#### Profiles"
   ]
  },
  {
   "cell_type": "code",
   "execution_count": null,
   "metadata": {},
   "outputs": [],
   "source": [
    "prof.head()"
   ]
  },
  {
   "cell_type": "markdown",
   "metadata": {},
   "source": [
    "### Zobrazenie základných informácií o jednotlivých DF."
   ]
  },
  {
   "cell_type": "markdown",
   "metadata": {},
   "source": [
    "#### Connections"
   ]
  },
  {
   "cell_type": "code",
   "execution_count": null,
   "metadata": {},
   "outputs": [],
   "source": [
    "con.info()"
   ]
  },
  {
   "cell_type": "markdown",
   "metadata": {},
   "source": [
    "#### Processes"
   ]
  },
  {
   "cell_type": "code",
   "execution_count": null,
   "metadata": {},
   "outputs": [],
   "source": [
    "proc.info()"
   ]
  },
  {
   "cell_type": "markdown",
   "metadata": {},
   "source": [
    "#### Devices"
   ]
  },
  {
   "cell_type": "code",
   "execution_count": null,
   "metadata": {},
   "outputs": [],
   "source": [
    "dev.info()"
   ]
  },
  {
   "cell_type": "markdown",
   "metadata": {},
   "source": [
    "#### Profiles"
   ]
  },
  {
   "cell_type": "code",
   "execution_count": null,
   "metadata": {},
   "outputs": [],
   "source": [
    "prof.info()"
   ]
  },
  {
   "cell_type": "markdown",
   "metadata": {},
   "source": [
    "### Zistíme počet zariadení, ktoré majú pridelené záznamy."
   ]
  },
  {
   "cell_type": "code",
   "execution_count": null,
   "metadata": {},
   "outputs": [],
   "source": [
    "print(f\"Connections: {con[\"imei\"].nunique()}\\nProcesses: {proc[\"imei\"].nunique()}\\nDevices: {dev[\"imei\"].nunique()}\\nProfiles: {prof[\"imei\"].nunique()}\")"
   ]
  },
  {
   "cell_type": "markdown",
   "metadata": {},
   "source": [
    "### Zistili sme že vo všetkých DF okrem `Profiles` máme záznamy o 500 zariadeniach.\n",
    "#### Nevieme však povedať, či sa jedná o tie isté zariadenia, a ak sa aj jedná o tie isté zariadenia, nevieme pre ktoré nám chýba záznam v `Profiles`."
   ]
  },
  {
   "cell_type": "markdown",
   "metadata": {},
   "source": [
    "### Uistíme sa, či sa jedná o tie isté zariadenia.\n",
    "### Vytvoríme DFs obsahujúce iba unikátne `imei` zo všetkých 4 DF.\n",
    "### Následne ich spojíme práve na základe `imei` a overíme, či sa jedná o tie isté zariadenia."
   ]
  },
  {
   "cell_type": "code",
   "execution_count": null,
   "metadata": {},
   "outputs": [],
   "source": [
    "imei1 = pd.DataFrame({\"imei\": con[\"imei\"].unique()})\n",
    "imei2 = pd.DataFrame({\"imei\": proc[\"imei\"].unique()})\n",
    "imei3 = pd.DataFrame({\"imei\": dev[\"imei\"].unique()})\n",
    "imei4 = pd.DataFrame({\"imei\": prof[\"imei\"].unique()})\n",
    "m1 = pd.merge(imei1, imei2, on=\"imei\")\n",
    "m2 = pd.merge(m1, imei3, on=\"imei\")\n",
    "m3 = pd.merge(m1, imei4, on=\"imei\")\n",
    "print(\"Connections & Processes =\", m1.shape[0], \"\\n+ Devices =\", m2.shape[0], \"\\n+ Profiles =\", m3.shape[0])"
   ]
  },
  {
   "cell_type": "markdown",
   "metadata": {},
   "source": [
    "### Vidíme, že sa jedná o tie isté `imei`, iba v Profiles jedno chýba. Zistíme, ktoré konkrétne to je."
   ]
  },
  {
   "cell_type": "markdown",
   "metadata": {},
   "source": [
    "### Porovnáme unikátne `imei` napr. z `Connections` a `Profiles`, aby sme našli `imei`, ktoré sa nespojilo vyššie.\n",
    "### Aby sme sa uistile že rovnaké `imei` sa nachádzajú na rovnakých pozíciách, naskôr si oba DF zoradíme."
   ]
  },
  {
   "cell_type": "code",
   "execution_count": null,
   "metadata": {},
   "outputs": [],
   "source": [
    "m3.sort_values(by=\"imei\", inplace=True)\n",
    "m3.reset_index(inplace=True)\n",
    "imei1.sort_values(by=\"imei\", inplace=True)\n",
    "imei1.reset_index(inplace=True)\n",
    "for i in range(0, 498):\n",
    "    im1 = imei1.iloc[i]\n",
    "    im2 = m3.iloc[i]\n",
    "    if imei1.iloc[i, 1] != m3.iloc[i, 1]:\n",
    "        print(\"Chýbajúce imei z Profiles: \", imei1.iloc[i, 1])\n",
    "        break"
   ]
  },
  {
   "cell_type": "markdown",
   "metadata": {},
   "source": [
    "### Základné deskriptívne hodnoty jednotlivých DF."
   ]
  },
  {
   "cell_type": "markdown",
   "metadata": {},
   "source": [
    "#### Connections"
   ]
  },
  {
   "cell_type": "code",
   "execution_count": null,
   "metadata": {},
   "outputs": [],
   "source": [
    "con.describe()"
   ]
  },
  {
   "cell_type": "markdown",
   "metadata": {},
   "source": [
    "#### Processes"
   ]
  },
  {
   "cell_type": "code",
   "execution_count": null,
   "metadata": {},
   "outputs": [],
   "source": [
    "proc.describe()"
   ]
  },
  {
   "cell_type": "markdown",
   "metadata": {},
   "source": [
    "#### Devices"
   ]
  },
  {
   "cell_type": "code",
   "execution_count": null,
   "metadata": {},
   "outputs": [],
   "source": [
    "dev.describe()"
   ]
  },
  {
   "cell_type": "markdown",
   "metadata": {},
   "source": [
    "#### Profiles"
   ]
  },
  {
   "cell_type": "code",
   "execution_count": null,
   "metadata": {},
   "outputs": [],
   "source": [
    "prof.describe()"
   ]
  },
  {
   "cell_type": "markdown",
   "metadata": {},
   "source": [
    "#\n",
    "## *B) Analýza jednotlivých atribútov*"
   ]
  },
  {
   "cell_type": "markdown",
   "metadata": {},
   "source": [
    "### Atribúty sme vyberali z DF: `Connections` a `Processes`.\n",
    "### Pred samotnou analýzou vybraných atribútov sme overili možné duplikáty, ktoré by mohli ovplyvniť ďalšiu analýzu."
   ]
  },
  {
   "cell_type": "markdown",
   "metadata": {},
   "source": [
    "### Počet duplikátov v Connections."
   ]
  },
  {
   "cell_type": "code",
   "execution_count": null,
   "metadata": {},
   "outputs": [],
   "source": [
    "con.duplicated().sum()"
   ]
  },
  {
   "cell_type": "markdown",
   "metadata": {},
   "source": [
    "### Počet duplikátov v Processes."
   ]
  },
  {
   "cell_type": "code",
   "execution_count": null,
   "metadata": {},
   "outputs": [],
   "source": [
    "proc.duplicated().sum()"
   ]
  },
  {
   "cell_type": "markdown",
   "metadata": {},
   "source": [
    "### V oboch DF sa našli duplikátne záznamy -> odstránime ich."
   ]
  },
  {
   "cell_type": "markdown",
   "metadata": {},
   "source": [
    "#### Pomocná funkcia pre budúce porovnanie vymazaných záznamov."
   ]
  },
  {
   "cell_type": "code",
   "execution_count": 20,
   "metadata": {},
   "outputs": [],
   "source": [
    "def count_of_rows():\n",
    "    return [con.shape[0], proc.shape[0], dev.shape[0], prof.shape[0]]"
   ]
  },
  {
   "cell_type": "markdown",
   "metadata": {},
   "source": [
    "#### Zaznamenanie počtu záznamov pre budúce porovnanie."
   ]
  },
  {
   "cell_type": "code",
   "execution_count": 21,
   "metadata": {},
   "outputs": [],
   "source": [
    "before = count_of_rows()"
   ]
  },
  {
   "cell_type": "markdown",
   "metadata": {},
   "source": [
    "### Odstránenie duplikátnych záznamov pre oba DF."
   ]
  },
  {
   "cell_type": "code",
   "execution_count": 22,
   "metadata": {},
   "outputs": [],
   "source": [
    "con = con.loc[~con.duplicated()].reset_index(drop=True).copy()\n",
    "proc = proc.loc[~proc.duplicated()].reset_index(drop=True).copy()"
   ]
  },
  {
   "cell_type": "markdown",
   "metadata": {},
   "source": [
    "### Výber konkrétnych atribútov na ďalšiu analýzu."
   ]
  },
  {
   "cell_type": "code",
   "execution_count": 23,
   "metadata": {},
   "outputs": [],
   "source": [
    "attributes = pd.DataFrame({\n",
    "    'c.dogalize': con['c.dogalize'],\n",
    "    'c.katana': con['c.katana'],\n",
    "    'c.android.gm': con['c.android.gm'],\n",
    "    'p.android.packageinstaller': proc['p.android.packageinstaller'],\n",
    "    'p.android.externalstorage': proc['p.android.externalstorage'],\n",
    "    'p.system': proc['p.system'],\n",
    "    'p.android.chrome': proc['p.android.chrome'],\n",
    "    'p.android.settings': proc['p.android.settings'],\n",
    "    'p.android.documentsui': proc['p.android.documentsui'],\n",
    "    'p.android.gm': proc['p.android.gm']\n",
    "})"
   ]
  },
  {
   "cell_type": "markdown",
   "metadata": {},
   "source": [
    "### Overenie možných duplikátov."
   ]
  },
  {
   "cell_type": "code",
   "execution_count": null,
   "metadata": {},
   "outputs": [],
   "source": [
    "attributes.duplicated().sum()"
   ]
  },
  {
   "cell_type": "markdown",
   "metadata": {},
   "source": [
    "### Zobrazenie základných deskriptívnych údajov vybraných atribútov."
   ]
  },
  {
   "cell_type": "code",
   "execution_count": 25,
   "metadata": {},
   "outputs": [],
   "source": [
    "pom = attributes.describe()"
   ]
  },
  {
   "cell_type": "markdown",
   "metadata": {},
   "source": [
    "#### Funkcia `.describe()` neobsahuje hodnoty: modus a medián, preto ich manuálne pridáme do DF."
   ]
  },
  {
   "cell_type": "markdown",
   "metadata": {},
   "source": [
    "### Overenie počtu modusov pre jednotlivé atribúty."
   ]
  },
  {
   "cell_type": "code",
   "execution_count": null,
   "metadata": {},
   "outputs": [],
   "source": [
    "attributes.mode().count()"
   ]
  },
  {
   "cell_type": "markdown",
   "metadata": {},
   "source": [
    "#### Nakoľko niektoré atribúty majú viacero modusov, rozhodli sme sa pristúpiť k riešeniu spriemerovania, za účelom získania 1 konkrétnej hodnoty."
   ]
  },
  {
   "cell_type": "markdown",
   "metadata": {},
   "source": [
    "### Vypočítanie modusu a jeho pridanie do DF."
   ]
  },
  {
   "cell_type": "code",
   "execution_count": 27,
   "metadata": {},
   "outputs": [],
   "source": [
    "temp = attributes.mode().mean()\n",
    "temp = pd.DataFrame({'mode': temp})\n",
    "temp = temp.T\n",
    "pom2 = pd.concat([pom, temp])"
   ]
  },
  {
   "cell_type": "markdown",
   "metadata": {},
   "source": [
    "### Vypočítanie mediánu a jeho pridanie do DF."
   ]
  },
  {
   "cell_type": "code",
   "execution_count": 28,
   "metadata": {},
   "outputs": [],
   "source": [
    "temp = attributes.median()\n",
    "temp = pd.DataFrame({'median': temp})\n",
    "temp = temp.T\n",
    "pom3 = pd.concat([pom2, temp])\n"
   ]
  },
  {
   "cell_type": "markdown",
   "metadata": {},
   "source": [
    "### Overenie pridania modusu a mediánu"
   ]
  },
  {
   "cell_type": "code",
   "execution_count": null,
   "metadata": {},
   "outputs": [],
   "source": [
    "pom3"
   ]
  },
  {
   "cell_type": "markdown",
   "metadata": {},
   "source": [
    "### Grafické zobrazenie jednotlivých distribúcií atribútov."
   ]
  },
  {
   "cell_type": "code",
   "execution_count": null,
   "metadata": {},
   "outputs": [],
   "source": [
    "kde_plots = attributes.plot(kind='kde', subplots=True, layout=(4, 3), figsize=(15, 10), legend=False)\n",
    "kde_plots = kde_plots.flatten()\n",
    "\n",
    "titles =  attributes.columns\n",
    "\n",
    "i=0\n",
    "for i in range(0, 10):\n",
    "    kde_plots[i].set_title(titles[i])\n",
    "    kde_plots[i].set_xlabel(\"usage\")\n",
    "\n",
    "    kde_plots[i].tick_params(axis='x', which='both', labelbottom=True)\n",
    "\n",
    "plt.tight_layout()\n",
    "plt.subplots_adjust(hspace=0.5, wspace=0.3)\n",
    "plt.show()"
   ]
  },
  {
   "cell_type": "markdown",
   "metadata": {},
   "source": [
    "### Podľa jednotlivých grafov na pohľad vyplýva že atribúty patria do normálnej distribúcie.\n",
    "### Aby naše tvrdenie bolo potvrdené, zobrazíme atribúty cez QQ plot."
   ]
  },
  {
   "cell_type": "markdown",
   "metadata": {},
   "source": [
    "### QQ ploty vybraných atribútov."
   ]
  },
  {
   "cell_type": "code",
   "execution_count": null,
   "metadata": {},
   "outputs": [],
   "source": [
    "fig, axes = plt.subplots(nrows=4, ncols=3, figsize=(13, 15))\n",
    "\n",
    "axes = axes.flatten()\n",
    "\n",
    "for idx, col in enumerate(attributes.columns):\n",
    "    sm.qqplot(attributes[col], fit=True, line=\"45\", ax=axes[idx])\n",
    "    axes[idx].set_title(col)\n",
    "\n",
    "for i in range(len(attributes.columns), len(axes)):\n",
    "    fig.delaxes(axes[i])\n",
    "\n",
    "plt.tight_layout()\n",
    "plt.show()"
   ]
  },
  {
   "cell_type": "markdown",
   "metadata": {},
   "source": [
    "### Atribúty podľa QQ plotov na pohľad takisto patria do normálnej distribúcie.\n",
    "### Problém však vyvolávajú outlier-y, ktoré však neskôr odstránime.\n",
    "### Vykonali ešte test na normálnu distribúciu, a to `Shapiro-Wilk` test na normalitu."
   ]
  },
  {
   "cell_type": "code",
   "execution_count": null,
   "metadata": {},
   "outputs": [],
   "source": [
    "for i in attributes.columns:\n",
    "    pvalue=stats.shapiro(attributes[i]).pvalue\n",
    "    print(f\"{i:<26} = {pvalue:.6f}\")"
   ]
  },
  {
   "cell_type": "markdown",
   "metadata": {},
   "source": [
    "### Na základe `Shapiro-Wilk` testu sa naše pôvodné tvrdenie, usúdené na základe grafov, vyvrátilo, pretože `p < 0.05` v každom prípade.\n",
    "### Atribúty teda nepatria do normálnej distribúcie.\n",
    "### Domnievame sa, že výskyt outlier-ov môže hrať v tomto rolu."
   ]
  },
  {
   "cell_type": "markdown",
   "metadata": {},
   "source": [
    "#\n",
    "### Na základe upozornenia z predchádzajúceho testu na normalitu, sme zopakovali 100-krát rovnaký test, vždy s náhodnou vzorkou veľkosti 1000."
   ]
  },
  {
   "cell_type": "code",
   "execution_count": null,
   "metadata": {},
   "outputs": [],
   "source": [
    "x = 100\n",
    "y = 1000\n",
    "\n",
    "print(f\"{'P-values pre vzorky:':<31} {y//2} {y:>9} {y*2:>9}\\n\")\n",
    "\n",
    "for i in attributes.columns:\n",
    "    pvalue, pvalue1, pvalue2 = 0, 0, 0\n",
    "    for j in range(x):\n",
    "        sampled_data = attributes[i].sample(n=y//2, random_state=j)\n",
    "        sampled_data1 = attributes[i].sample(n=y, random_state=j)\n",
    "        sampled_data2 = attributes[i].sample(n=y*2, random_state=j)\n",
    "\n",
    "        pvalue += stats.shapiro(sampled_data).pvalue\n",
    "        pvalue1 += stats.shapiro(sampled_data1).pvalue\n",
    "        pvalue2 += stats.shapiro(sampled_data2).pvalue\n",
    "    \n",
    "    pvalue /= x\n",
    "    pvalue1 /= x\n",
    "    pvalue2 /= x\n",
    "\n",
    "    print(f\"{i:<26} = {pvalue:.6f}  {pvalue1:.6f}  {pvalue2:.6f}\")"
   ]
  },
  {
   "cell_type": "markdown",
   "metadata": {},
   "source": [
    "### Z vykonaných testov vidíme, že čím zväčšujeme veľkosť vzorky, tým menej atribútov patrí do normálnej distribúcie."
   ]
  },
  {
   "cell_type": "markdown",
   "metadata": {},
   "source": [
    "#\n",
    "## *C) Párová analýza dát*"
   ]
  },
  {
   "cell_type": "markdown",
   "metadata": {},
   "source": [
    "### Rozhodli sme sa pre porovnanie jednotlivých atribútov prostredníctvom `Heat mapy`."
   ]
  },
  {
   "cell_type": "markdown",
   "metadata": {},
   "source": [
    "### Heat mapa pre Connections."
   ]
  },
  {
   "cell_type": "code",
   "execution_count": null,
   "metadata": {},
   "outputs": [],
   "source": [
    "con2=con[[  'mwra', \n",
    "            'c.dogalize', 'c.android.chrome', 'c.katana',\n",
    "            'c.android.gm', 'c.android.youtube', 'c.android.vending',\n",
    "            'c.updateassist', 'c.UCMobile.x86', 'c.UCMobile.intl', 'c.raider']].copy()\n",
    "\n",
    "con_corr2=con2.corr()\n",
    "\n",
    "fig, ax = plt.subplots(figsize=(13,11))\n",
    "\n",
    "ax.set_title('Heat map pre Connections', fontsize=16)\n",
    "\n",
    "sns.heatmap(con_corr2, annot=True)\n",
    "plt.show()"
   ]
  },
  {
   "cell_type": "markdown",
   "metadata": {},
   "source": [
    "### Z vykreslenej `Heat mapy` vidíme, že existujú korelácie medzi viacerými atribútmi. Najvýraznejšie korelácie sú medzi:\n",
    "- **`mwra`** a **`c.dogalize`** – korelačná hodnota: **-0.56**\n",
    "\n",
    "- **`c.android.gm`** a **`c.katana`** – korelačná hodnota: **-0.43**\n",
    "\n",
    "- **`mwra`** a **`c.katana`** – korelačná hodnota: **-0.30**"
   ]
  },
  {
   "cell_type": "markdown",
   "metadata": {},
   "source": [
    "### Heat mapa pre Processes."
   ]
  },
  {
   "cell_type": "code",
   "execution_count": null,
   "metadata": {},
   "outputs": [],
   "source": [
    "proc2 = proc[[  'mwra', \n",
    "                'p.android.packageinstaller',\n",
    "                'p.android.externalstorage', 'p.system', 'p.android.chrome',\n",
    "                'p.android.settings', 'p.android.documentsui', 'p.android.gm',\n",
    "                'p.katana', 'p.google', 'p.android.gms', 'p.inputmethod.latin',\n",
    "                'p.process.gapps', 'p.olauncher', 'p.browser.provider', 'p.notifier',\n",
    "                'p.gms.persistent', 'p.android.defcontainer', 'p.android.vending',\n",
    "                'p.simulator', 'p.dogalize']].copy()\n",
    "\n",
    "proc_corr1=proc2.corr()\n",
    "\n",
    "fig, ax = plt.subplots(figsize=(25,25))\n",
    "\n",
    "ax.set_title('Heat map pre Processes', fontsize=20)\n",
    "\n",
    "sns.heatmap(proc_corr1, annot=True)\n",
    "plt.show()"
   ]
  },
  {
   "cell_type": "markdown",
   "metadata": {},
   "source": [
    "### Z tejto Heat mapy vidíme viacero silnejších korelácií ako napr.\n",
    "- **`mwra`** a **`c.p.android.documnetsui`** – korelačná hodnota: **-0.55**\n",
    "\n",
    "- **`p.android.game`** a **`p.adroid.settings`** – korelačná hodnota: **-0.54**\n",
    "\n",
    "- **`mwra`** a **`p.android.packageinstaller`** – korelačná hodnota: **-0.52**"
   ]
  },
  {
   "cell_type": "markdown",
   "metadata": {},
   "source": [
    "### Pre porovnanie závislostí atribútov medzi `Connections` a `Processes` sme tieto DF spojili DF spojili na základe rovnosti: `ts`, `imei` a `mwra` atribútov."
   ]
  },
  {
   "cell_type": "code",
   "execution_count": null,
   "metadata": {},
   "outputs": [],
   "source": [
    "con_proc = pd.merge(con, proc, on=['ts', 'imei', 'mwra'])\n",
    "con_proc.columns"
   ]
  },
  {
   "cell_type": "markdown",
   "metadata": {},
   "source": [
    "### `Heat mapa` pre merge DF: `Connections a Processes`."
   ]
  },
  {
   "cell_type": "code",
   "execution_count": null,
   "metadata": {},
   "outputs": [],
   "source": [
    "con_proc_corr=con_proc.drop(columns=['ts', 'imei']).corr()\n",
    "\n",
    "fig, ax = plt.subplots(figsize=(30,13))\n",
    "\n",
    "con_proc_corr_show=con_proc_corr.loc[\"c.dogalize\":\"c.raider\", \"p.android.packageinstaller\":\"p.dogalize\"]\n",
    "\n",
    "ax.set_title('Heat map pre Connections & Processes', fontsize=24)\n",
    "\n",
    "sns.heatmap(con_proc_corr_show, annot=True)\n",
    "plt.show()"
   ]
  },
  {
   "cell_type": "markdown",
   "metadata": {},
   "source": [
    "### Na základe `Heat mapy` sme zistili značné korelácie medzi atribútmi:\n",
    "\n",
    "- **`c.dogalize`** a **`p.android.documentsui`** – korelačná hodnota: **0.62**\n",
    "\n",
    "- **`c.katana`** a **`p.android.settings`** – korelačná hodnota: **-0.57**\n",
    "\n",
    "- **`c.dogalize`** a **`p.android.packageinstaller`** – korelačná hodnota: **-0.41**"
   ]
  },
  {
   "cell_type": "markdown",
   "metadata": {},
   "source": [
    "## *D) Párová analýza dát - predikovaná premenná*"
   ]
  },
  {
   "cell_type": "markdown",
   "metadata": {},
   "source": [
    "### Koreláciu atribútov s predikovanou premennou sme vykonali v predchádzajúcom kroku."
   ]
  },
  {
   "cell_type": "markdown",
   "metadata": {},
   "source": [
    "### Vyberieme korelácie predikovannej premennej s ostatnými atribútmi."
   ]
  },
  {
   "cell_type": "code",
   "execution_count": 38,
   "metadata": {},
   "outputs": [],
   "source": [
    "mwra_corr = con_proc_corr['mwra'].drop('mwra')"
   ]
  },
  {
   "cell_type": "markdown",
   "metadata": {},
   "source": [
    "### Vybrané korelácie usporiadame podľa absolútnych hodnôt."
   ]
  },
  {
   "cell_type": "code",
   "execution_count": 39,
   "metadata": {},
   "outputs": [],
   "source": [
    "mwra_corr = con_proc_corr['mwra'].drop('mwra')\n",
    "mwra_corr = pd.DataFrame({\"values\": mwra_corr, \"absolute_values\": mwra_corr.abs()})\n",
    "mwra_corr.sort_values(by=[\"absolute_values\"], inplace=True, ascending=False)\n",
    "mwra_corr = mwra_corr[\"values\"]"
   ]
  },
  {
   "cell_type": "markdown",
   "metadata": {},
   "source": [
    "### Usporiadané korelácie zobrazíme na `Histograme`."
   ]
  },
  {
   "cell_type": "code",
   "execution_count": null,
   "metadata": {},
   "outputs": [],
   "source": [
    "index = np.arange(len(mwra_corr))\n",
    "\n",
    "plt.subplots(figsize=(15, 7))\n",
    "\n",
    "plt.bar(index[mwra_corr >= 0], mwra_corr[mwra_corr >= 0], color=\"green\", label=\"positive\")\n",
    "plt.bar(index[mwra_corr < 0], mwra_corr[mwra_corr < 0], color=\"red\", label=\"negative\")\n",
    "\n",
    "plt.xticks(index, mwra_corr.index, rotation=90)\n",
    "plt.yticks(np.arange(-0.6, 0.7, 0.1))\n",
    "plt.title('Bar Plot kladných a negatívnych korelácií.')\n",
    "plt.ylabel(\"Hodnoty korelácie\")\n",
    "plt.legend()\n",
    "plt.show()"
   ]
  },
  {
   "cell_type": "markdown",
   "metadata": {},
   "source": [
    "### Zobrazíme distribúciu atribútov pomocou `KDE` grafu, podľa predikovanej premennej."
   ]
  },
  {
   "cell_type": "code",
   "execution_count": null,
   "metadata": {},
   "outputs": [],
   "source": [
    "columns = mwra_corr.index[0:9]\n",
    "\n",
    "fig, axes = plt.subplots(nrows=3, ncols=3, figsize=(12, 15))\n",
    "\n",
    "axes = axes.flatten()\n",
    "\n",
    "for idx, col in enumerate(columns):\n",
    "    sns.kdeplot(x=con_proc[col], hue=con_proc['mwra'], fill=True, ax=axes[idx])\n",
    "\n",
    "for i in range(len(attributes.columns), len(axes)):\n",
    "    fig.delaxes(axes[i])\n",
    "\n",
    "\n",
    "plt.tight_layout()\n",
    "plt.show()"
   ]
  },
  {
   "cell_type": "markdown",
   "metadata": {},
   "source": [
    "### Ak by sme boli schopní vertikálnou čiarou od seba oddeliť oba grafy, tak by bol atribút dokonalým predikátorom predikovanej premennej."
   ]
  },
  {
   "cell_type": "markdown",
   "metadata": {},
   "source": [
    "#\n",
    "## *E) Dokumentujte Vaše prvotné zamyslenie k riešeniu zadania projektu.*"
   ]
  },
  {
   "cell_type": "markdown",
   "metadata": {},
   "source": [
    "- ### Závislosť atribútov sme zobrazli pomocou `Heat mapy` v časti `1.1 C)` aj pre `Connections`, aj `Processes`. Takisto sme vypísali najsilnejšie korelácie medzi atribútmi.\n",
    "- ### Závisloť predikovannej premennej sme zobrazili cez `Histogram` v časti `1.1 D)`.\n",
    "- ### Kombinovanie záznamov bolo potrebné na zistenie korelácií atribútov z rôznych DF.\n",
    "- ### Najsilnejšia korelácia je práve medzi atribútmi z rôznych DF."
   ]
  },
  {
   "cell_type": "markdown",
   "metadata": {},
   "source": [
    "#\n",
    "# **1.2 Identifikácia problémov, integrácia a čistenie dát**"
   ]
  },
  {
   "cell_type": "markdown",
   "metadata": {},
   "source": [
    "#\n",
    "## *A) Nevhodná štruktúra dát, duplicitné záznamy, nejednotné formáty, chýbajúce, vychýlené hodnoty*"
   ]
  },
  {
   "cell_type": "markdown",
   "metadata": {},
   "source": [
    "### Názvy atribútov jednotlivých DF."
   ]
  },
  {
   "cell_type": "markdown",
   "metadata": {},
   "source": [
    "#### Connections"
   ]
  },
  {
   "cell_type": "code",
   "execution_count": null,
   "metadata": {},
   "outputs": [],
   "source": [
    "con.columns"
   ]
  },
  {
   "cell_type": "markdown",
   "metadata": {},
   "source": [
    "#### Processes"
   ]
  },
  {
   "cell_type": "code",
   "execution_count": null,
   "metadata": {},
   "outputs": [],
   "source": [
    "proc.columns"
   ]
  },
  {
   "cell_type": "markdown",
   "metadata": {},
   "source": [
    "#### Devices"
   ]
  },
  {
   "cell_type": "code",
   "execution_count": null,
   "metadata": {},
   "outputs": [],
   "source": [
    "dev.columns"
   ]
  },
  {
   "cell_type": "markdown",
   "metadata": {},
   "source": [
    "#### Profiles"
   ]
  },
  {
   "cell_type": "code",
   "execution_count": null,
   "metadata": {},
   "outputs": [],
   "source": [
    "prof.columns"
   ]
  },
  {
   "cell_type": "markdown",
   "metadata": {},
   "source": [
    "### Premenovanie stĺpcov. Osobná preferencia."
   ]
  },
  {
   "cell_type": "code",
   "execution_count": 46,
   "metadata": {},
   "outputs": [],
   "source": [
    "con = con.rename(columns={  'ts':'DateTime',\n",
    "                            'imei':'ID',\n",
    "                            'mwra':'Malware',\n",
    "                            'c.dogalize':'Dogalize',\n",
    "                            'c.android.chrome':'Chrome',\n",
    "                            'c.katana':'Katana',\n",
    "                            'c.android.gm':'Gm',\n",
    "                            'c.android.youtube':'Youtube',\n",
    "                            'c.android.vending':'Vending',\n",
    "                            'c.updateassist':'Update_assist',\n",
    "                            'c.UCMobile.x86':'UCMobile_x86',\n",
    "                            'c.UCMobile.intl':'UCMobile_intl',\n",
    "                            'c.raider':'Raider'})\n",
    "\n",
    "proc = proc.rename(columns={'ts':'DateTime',\n",
    "                            'imei':'ID',\n",
    "                            'mwra':'Malware',\n",
    "                            'p.android.packageinstaller':'Package_installer',\n",
    "                            'p.android.externalstorage':'External_storage',\n",
    "                            'p.system':'System',\n",
    "                            'p.android.chrome':'Chrome',\n",
    "                            'p.android.settings':'Settings',\n",
    "                            'p.android.documentsui':'Document_sui',\n",
    "                            'p.android.gm':'Gm',\n",
    "                            'p.katana':'Katana',\n",
    "                            'p.google':'Google',\n",
    "                            'p.android.gms':'Gms',\n",
    "                            'p.inputmethod.latin':'InputMethod_latin',\n",
    "                            'p.process.gapps':'Process_gapps',\n",
    "                            'p.olauncher':'OLauncher',\n",
    "                            'p.browser.provider':'Browser_provider',\n",
    "                            'p.notifier':'Notifier',\n",
    "                            'p.gms.persistent':'Gms_persistent',\n",
    "                            'p.android.defcontainer':'Def_container',\n",
    "                            'p.android.vending':'Vending',\n",
    "                            'p.simulator':'Simulator',\n",
    "                            'p.dogalize':'Dogalize'})\n",
    "\n",
    "dev = dev.rename(columns={  'latitude':'Latitude',\n",
    "                            'longitude':'Longitude',\n",
    "                            'store_name':'City',\n",
    "                            'code':'Country',\n",
    "                            'location':'Location',\n",
    "                            'imei':'ID'})\n",
    "\n",
    "prof = prof.rename(columns={'job':'Job',\n",
    "                            'current_location':'Coordinates',\n",
    "                            'imei':'ID',\n",
    "                            'user_id':'UserID',\n",
    "                            'address':'Adress',\n",
    "                            'ssn':'SSN',\n",
    "                            'company':'Company',\n",
    "                            'birthdate':'Birthdate',\n",
    "                            'registration':'Registration',\n",
    "                            'mail':'Email',\n",
    "                            'username':'Username',\n",
    "                            'name':'Name'})"
   ]
  },
  {
   "cell_type": "markdown",
   "metadata": {},
   "source": [
    "### Preusporiadanie stĺpcov. Osobná preferencia."
   ]
  },
  {
   "cell_type": "code",
   "execution_count": 47,
   "metadata": {},
   "outputs": [],
   "source": [
    "con = con[['ID', 'Malware', 'DateTime', 'Chrome', 'Youtube', 'Dogalize', 'Katana', 'Raider', 'Gm', 'Vending', 'Update_assist', 'UCMobile_x86', 'UCMobile_intl']]\n",
    "\n",
    "proc = proc[['ID', 'Malware', 'DateTime', 'Chrome', 'Google', 'Dogalize', 'Katana', 'Gm', 'Vending', 'System', 'Settings', 'Simulator', \n",
    "             'Notifier', 'Gms', 'Gms_persistent', 'Document_sui', 'Package_installer', 'External_storage', 'InputMethod_latin', 'Process_gapps', 'OLauncher', 'Browser_provider', 'Def_container']]\n",
    "\n",
    "dev = dev[['ID', 'Country', 'City', 'Location', 'Latitude', 'Longitude']]\n",
    "\n",
    "prof = prof[['ID', 'UserID', 'Username', 'Name', 'Email', 'Birthdate', 'Job', 'Adress', 'SSN', 'Company', 'Registration', 'Coordinates']]"
   ]
  },
  {
   "cell_type": "markdown",
   "metadata": {},
   "source": [
    "#\n",
    "#### Funkcia pre `prof['Coordinates']` na oddelenie zemepisnej šírky a dĺžky."
   ]
  },
  {
   "cell_type": "code",
   "execution_count": 48,
   "metadata": {},
   "outputs": [],
   "source": [
    "def extract_coordinate(coordinate, which):\n",
    "    if pd.isna(coordinate):\n",
    "        return np.nan\n",
    "    both = coordinate.split(', ')\n",
    "    cleared = re.sub(r\"[^\\d.-]\", \"\", both[which])\n",
    "    return float(cleared)"
   ]
  },
  {
   "cell_type": "markdown",
   "metadata": {},
   "source": [
    "### Rozdelenie `prof['Coordinates']` na atribúty `Latitude` a `Longitude`."
   ]
  },
  {
   "cell_type": "code",
   "execution_count": 49,
   "metadata": {},
   "outputs": [],
   "source": [
    "prof['Latitude'] = prof['Coordinates'].apply(extract_coordinate, args=(0,))\n",
    "prof['Longitude'] = prof['Coordinates'].apply(extract_coordinate, args=(1,))"
   ]
  },
  {
   "cell_type": "markdown",
   "metadata": {},
   "source": [
    "#### Atribút `Coordinates` už nie je potrebný v `Profiles`."
   ]
  },
  {
   "cell_type": "code",
   "execution_count": 50,
   "metadata": {},
   "outputs": [],
   "source": [
    "prof = prof.drop('Coordinates', axis=1)"
   ]
  },
  {
   "cell_type": "markdown",
   "metadata": {},
   "source": [
    "#\n",
    "### Zmena stĺpcov na správny/zodpovedajúci dátový formát."
   ]
  },
  {
   "cell_type": "markdown",
   "metadata": {},
   "source": [
    "#### Funkcia, konkrétne pre `prof['Registration']`, kvôli rôznym dátumovým formátom."
   ]
  },
  {
   "cell_type": "code",
   "execution_count": 51,
   "metadata": {},
   "outputs": [],
   "source": [
    "def convert_mixed_date(date_str):\n",
    "    try:\n",
    "        return pd.to_datetime(date_str)\n",
    "    except:\n",
    "        try:\n",
    "            # (YYYY-MM-DD)\n",
    "            return pd.to_datetime(date_str, format='%Y-%m-%d')\n",
    "        except ValueError:\n",
    "            try:\n",
    "                # (MM/DD/YYYY, HH:MM:SS)\n",
    "                return pd.to_datetime(date_str, format='%m/%d/%Y, %H:%M:%S')\n",
    "            except ValueError:\n",
    "                try:\n",
    "                    # (07 Oct 2023)\n",
    "                    return pd.to_datetime(date_str, format='%d %b %Y')\n",
    "                except ValueError:\n",
    "                    return pd.NaT"
   ]
  },
  {
   "cell_type": "markdown",
   "metadata": {},
   "source": [
    "### Zmena najmä dátumov na formát `datetime`, ako aj zmena číselných atribútov na `int`, kde `float` je nepotrebný."
   ]
  },
  {
   "cell_type": "code",
   "execution_count": 52,
   "metadata": {},
   "outputs": [],
   "source": [
    "con['DateTime'] = pd.to_datetime(con['DateTime'])\n",
    "con['Malware'] = con['Malware'].astype(int)\n",
    "\n",
    "proc['DateTime'] = pd.to_datetime(proc['DateTime'])\n",
    "proc['Malware'] = proc['Malware'].astype(int)\n",
    "\n",
    "prof['Birthdate'] =  pd.to_datetime(prof['Birthdate'])\n",
    "prof['Registration'] = prof['Registration'].apply(convert_mixed_date)"
   ]
  },
  {
   "cell_type": "markdown",
   "metadata": {},
   "source": [
    "### Duplikátne záznamy v jednotlivých DF."
   ]
  },
  {
   "cell_type": "markdown",
   "metadata": {},
   "source": [
    "#### Connections"
   ]
  },
  {
   "cell_type": "code",
   "execution_count": null,
   "metadata": {},
   "outputs": [],
   "source": [
    "con.duplicated().sum()"
   ]
  },
  {
   "cell_type": "markdown",
   "metadata": {},
   "source": [
    "#### Processes"
   ]
  },
  {
   "cell_type": "code",
   "execution_count": null,
   "metadata": {},
   "outputs": [],
   "source": [
    "proc.duplicated().sum()"
   ]
  },
  {
   "cell_type": "markdown",
   "metadata": {},
   "source": [
    "#### Devices"
   ]
  },
  {
   "cell_type": "code",
   "execution_count": null,
   "metadata": {},
   "outputs": [],
   "source": [
    "dev.duplicated().sum()"
   ]
  },
  {
   "cell_type": "markdown",
   "metadata": {},
   "source": [
    "#### Profiles"
   ]
  },
  {
   "cell_type": "code",
   "execution_count": null,
   "metadata": {},
   "outputs": [],
   "source": [
    "prof.duplicated().sum()"
   ]
  },
  {
   "cell_type": "markdown",
   "metadata": {},
   "source": [
    "### Vymazanie duplikátnych záznamov.\n",
    "#### Duplikáty v Connections a Processes sme odstránili v časti `1.1 B)`. `Profiles` duplikáty neobsahujú."
   ]
  },
  {
   "cell_type": "code",
   "execution_count": 57,
   "metadata": {},
   "outputs": [],
   "source": [
    "# con = con.loc[~con.duplicated()].reset_index(drop=True).copy()\n",
    "# proc = proc.loc[~proc.duplicated()].reset_index(drop=True).copy()\n",
    "dev = dev.loc[~dev.duplicated()].reset_index(drop=True).copy()"
   ]
  },
  {
   "cell_type": "markdown",
   "metadata": {},
   "source": [
    "#### Pomocná funkcie na porovnanie vymazných záznamov."
   ]
  },
  {
   "cell_type": "code",
   "execution_count": 58,
   "metadata": {},
   "outputs": [],
   "source": [
    "def show_comparison(before, after):\n",
    "\n",
    "    names = ['Connections', 'Processes', 'Devices', 'Profiles']\n",
    "\n",
    "    print(f\"{'Tabuľka':<12} {'Pred':>8} {'Po':>8} {'Vymazaných':>10}\")\n",
    "    print(\"=\"*42)\n",
    "\n",
    "    for i in range(len(names)):\n",
    "        pred = before[i]\n",
    "        po = after[i]\n",
    "        rozdiel = pred - po\n",
    "        print(f\"{names[i]:<12} {pred:>8} {po:>8} {rozdiel:>10}\")"
   ]
  },
  {
   "cell_type": "markdown",
   "metadata": {},
   "source": [
    "#### Uloženie počtu riadkov po vymazaní duplikátov."
   ]
  },
  {
   "cell_type": "code",
   "execution_count": 59,
   "metadata": {},
   "outputs": [],
   "source": [
    "after = count_of_rows()"
   ]
  },
  {
   "cell_type": "markdown",
   "metadata": {},
   "source": [
    "### Porovnanie po vymazaní duplikátov."
   ]
  },
  {
   "cell_type": "code",
   "execution_count": null,
   "metadata": {},
   "outputs": [],
   "source": [
    "show_comparison(before, after)"
   ]
  },
  {
   "cell_type": "markdown",
   "metadata": {},
   "source": [
    "#\n",
    "## *B) Chýbajúce hodnoty*"
   ]
  },
  {
   "cell_type": "markdown",
   "metadata": {},
   "source": [
    "### Chýbajúcich hodnoty v jednotlivých DF."
   ]
  },
  {
   "cell_type": "markdown",
   "metadata": {},
   "source": [
    "#### Connections"
   ]
  },
  {
   "cell_type": "code",
   "execution_count": null,
   "metadata": {},
   "outputs": [],
   "source": [
    "con.isna().sum()"
   ]
  },
  {
   "cell_type": "markdown",
   "metadata": {},
   "source": [
    "#### Processes"
   ]
  },
  {
   "cell_type": "code",
   "execution_count": null,
   "metadata": {},
   "outputs": [],
   "source": [
    "proc.isna().sum()"
   ]
  },
  {
   "cell_type": "markdown",
   "metadata": {},
   "source": [
    "#### Devices"
   ]
  },
  {
   "cell_type": "code",
   "execution_count": null,
   "metadata": {},
   "outputs": [],
   "source": [
    "dev.isna().sum()"
   ]
  },
  {
   "cell_type": "markdown",
   "metadata": {},
   "source": [
    "#### Profiles"
   ]
  },
  {
   "cell_type": "code",
   "execution_count": null,
   "metadata": {},
   "outputs": [],
   "source": [
    "prof.isna().sum()"
   ]
  },
  {
   "cell_type": "markdown",
   "metadata": {},
   "source": [
    "#\n",
    "### Lokalizovanie chýbajúcej hodnoty v `dev['Country']`."
   ]
  },
  {
   "cell_type": "code",
   "execution_count": null,
   "metadata": {},
   "outputs": [],
   "source": [
    "dev.loc[dev['Country'].isna()]"
   ]
  },
  {
   "cell_type": "markdown",
   "metadata": {},
   "source": [
    "### Nahradenie chýbajúcej hodnoty v `dev['Country']`. Mesto `Okahandja` sa nachádza v Namíbií = `NA`."
   ]
  },
  {
   "cell_type": "code",
   "execution_count": 66,
   "metadata": {},
   "outputs": [],
   "source": [
    "dev.loc[2525, 'Country'] = 'NA'"
   ]
  },
  {
   "cell_type": "markdown",
   "metadata": {},
   "source": [
    "#### Overenie zmeny."
   ]
  },
  {
   "cell_type": "code",
   "execution_count": null,
   "metadata": {},
   "outputs": [],
   "source": [
    "dev.loc[dev['Country'] == 'NA']"
   ]
  },
  {
   "cell_type": "markdown",
   "metadata": {},
   "source": [
    "#\n",
    "### Atribút `prof['Job']` obsahuje `1762` chýbajúcich hodnôt čo je viac ako polovica z celkového počtu (`2517`) v `Profiles`.\n",
    "#### Nahradiť chýbajúce hodnoty napr. cez modus alebo zadaním defaultnej hodnoty by pri ďalšej analýze neposkytlo nič relevantné podľa nás.\n",
    "#### Takisto nevidíme dôvod ponechať tento atribút pre ďalšiu analýzu. Preto sme sa rozhodli atribút odstrániť."
   ]
  },
  {
   "cell_type": "markdown",
   "metadata": {},
   "source": [
    "### Odstránenie atribútu `Job` z Profiles."
   ]
  },
  {
   "cell_type": "code",
   "execution_count": 68,
   "metadata": {},
   "outputs": [],
   "source": [
    "prof = prof.drop('Job', axis=1)"
   ]
  },
  {
   "cell_type": "markdown",
   "metadata": {},
   "source": [
    "#\n",
    "### Atribút `prof['Birtdate']` obsahuje `1133` chýbajúcich hodnôt, takmer polovica (`2517`).\n",
    "#### Z rovnakých dôvodov ako pri atribúte `Birthdate` sme sa rozhodli atribút odstrániť."
   ]
  },
  {
   "cell_type": "markdown",
   "metadata": {},
   "source": [
    "### Odstránenie atribútu `Birthdate` z Profiles."
   ]
  },
  {
   "cell_type": "code",
   "execution_count": 69,
   "metadata": {},
   "outputs": [],
   "source": [
    "prof = prof.drop('Birthdate', axis=1)"
   ]
  },
  {
   "cell_type": "markdown",
   "metadata": {},
   "source": [
    "#\n",
    "### Atribút `prof['Adress']` obsahuje `378` chýbajúcich hodnôt, čo je približne `15%`.\n",
    "### Chýbajúce hodnoty pre tento atribút sme sa rozhodli nahradiť defaultnou hodnotou `'not included'`."
   ]
  },
  {
   "cell_type": "markdown",
   "metadata": {},
   "source": [
    "### Zmena chýbajúcich hodnôt na `'not included'`."
   ]
  },
  {
   "cell_type": "code",
   "execution_count": 70,
   "metadata": {},
   "outputs": [],
   "source": [
    "prof['Adress'] = prof['Adress'].fillna('not included')"
   ]
  },
  {
   "cell_type": "markdown",
   "metadata": {},
   "source": [
    "#\n",
    "### Atribúty `prof['Latitude']` a `prof['Longitude']` obsahujú `126` chýbajúcich hodnôt (dvojíc), čo je približne `5%`.\n",
    "### Po detailnejšom skúmaní a zisťovaní skutočnej polohy koordinácií, sme zistili, že veľké percento ukazuje na náhodné miesta v oceánoch po celom svete a na miesta, ktoré jednoducho nedávajú zmysel pre človeka.\n",
    "### Z toho dôvodu sme sa rozhodli zbaviť týchto atribútov."
   ]
  },
  {
   "cell_type": "markdown",
   "metadata": {},
   "source": [
    "### Zobrazenie súradníc je vykreslené na grafe spolu s **relatívnym** vyzobrazením kontinentov (Európa a Ázia sú osobitne)."
   ]
  },
  {
   "cell_type": "code",
   "execution_count": null,
   "metadata": {},
   "outputs": [],
   "source": [
    "plt.figure(figsize=(13, 6))\n",
    "plt.scatter(prof['Longitude'], prof['Latitude'], color='black', s=10, alpha=0.5)\n",
    "\n",
    "asia = plt.Rectangle((36, 31), 105, 40, linewidth=2, edgecolor='orange', facecolor='none', label='Ázia')\n",
    "africa = plt.Rectangle((-15, -35), 50, 69, linewidth=2, edgecolor='brown', facecolor='none', label='Afrika')\n",
    "europe = plt.Rectangle((9, 36.5), 21, 23, linewidth=2, edgecolor='blue', facecolor='none', label='Európa')\n",
    "south_america = plt.Rectangle((-78, -55.5), 40.9, 65, linewidth=2, edgecolor='green', facecolor='none', label='Južná Amerika')\n",
    "north_america = plt.Rectangle((-138, 32.7), 72.4, 36.5, linewidth=2, edgecolor='red', facecolor='none', label='Severná Amerika')\n",
    "\n",
    "plt.gca().add_patch(africa)\n",
    "plt.gca().add_patch(asia)\n",
    "plt.gca().add_patch(europe)\n",
    "plt.gca().add_patch(south_america)\n",
    "plt.gca().add_patch(north_america)\n",
    "\n",
    "plt.xticks(np.arange(-180, 181, 30))\n",
    "plt.yticks(np.arange(-90, 91, 15))\n",
    "\n",
    "plt.xlabel('Zemepisná dĺžka')\n",
    "plt.ylabel('Zemepisná šírka')\n",
    "plt.title('Geografické oblasti')\n",
    "\n",
    "plt.legend(loc='upper left', bbox_to_anchor=(1, 1))\n",
    "plt.show()"
   ]
  },
  {
   "cell_type": "markdown",
   "metadata": {},
   "source": [
    "### Z grafu je očividné, že takmer každý kút sveta je zastúpený."
   ]
  },
  {
   "cell_type": "markdown",
   "metadata": {},
   "source": [
    "#\n",
    "### Odstránenie atribútútov `Latitude` a `Longitude` z Profiles."
   ]
  },
  {
   "cell_type": "code",
   "execution_count": 72,
   "metadata": {},
   "outputs": [],
   "source": [
    "prof = prof.drop(['Latitude', 'Longitude'], axis=1)"
   ]
  },
  {
   "cell_type": "markdown",
   "metadata": {},
   "source": [
    "#\n",
    "## *C) Vychýlené hodnoty*"
   ]
  },
  {
   "cell_type": "markdown",
   "metadata": {},
   "source": [
    "#### Funkcia na vykreslenie box-plotov pre ukážku outlier-ov."
   ]
  },
  {
   "cell_type": "code",
   "execution_count": 73,
   "metadata": {},
   "outputs": [],
   "source": [
    "def show_box_plots(df, cols, columns):\n",
    "    rows = (len(columns) + cols - 1) // cols\n",
    "\n",
    "    plt.figure(figsize=(5 * cols, 5 * rows))\n",
    "\n",
    "    for i, col in enumerate(columns):\n",
    "        plt.subplot(rows, cols, i + 1)\n",
    "        try:\n",
    "            df[col].plot(kind='box')\n",
    "            plt.title(f'{col}')\n",
    "        except Exception as e:\n",
    "            print(f\"Chyba pri vykresľovaní boxplotu pre {col}: {e}\")\n",
    "        plt.ylabel('Hodnoty')\n",
    "\n",
    "    plt.tight_layout()\n",
    "    plt.show()"
   ]
  },
  {
   "cell_type": "markdown",
   "metadata": {},
   "source": [
    "### Box-ploty pre `Connections`."
   ]
  },
  {
   "cell_type": "code",
   "execution_count": null,
   "metadata": {},
   "outputs": [],
   "source": [
    "show_box_plots(con, 5, con.columns[3:])"
   ]
  },
  {
   "cell_type": "markdown",
   "metadata": {},
   "source": [
    "#### Z grafov môžeme vidieť, že atribúty `Raider`, `UCMobile_x86`, `UCMobile_intl` nemajú žiadne viditeľné outlier-y.\n",
    "#### Na druhej strane môžeme vidieť zaujímavé hodnoty pri atribúte `Update_assist`. Tomuto atribútu sa viac budeme venovať neskôr."
   ]
  },
  {
   "cell_type": "markdown",
   "metadata": {},
   "source": [
    "#\n",
    "### Box-ploty pre `Processes`."
   ]
  },
  {
   "cell_type": "code",
   "execution_count": null,
   "metadata": {},
   "outputs": [],
   "source": [
    "show_box_plots(proc, 5, proc.columns[3:])"
   ]
  },
  {
   "cell_type": "markdown",
   "metadata": {},
   "source": [
    "#### Vyzobrazením grafov pre `Processes` vidíme že až takmer polovica atribútov (9/20) nemá viditeľné outlier-y.\n",
    "#### Na všetky atribúty a ich konkrétny počet ako aj percentuálne vyjadrenie outlier-ov sa pozrieme nižšie."
   ]
  },
  {
   "cell_type": "markdown",
   "metadata": {},
   "source": [
    "#\n",
    "#### Funkcia identifikovania outlier-ov."
   ]
  },
  {
   "cell_type": "code",
   "execution_count": 76,
   "metadata": {},
   "outputs": [],
   "source": [
    "def identify_outliers(column, col_name):\n",
    "    lower = column.quantile(0.25) - 1.5 * stats.iqr(column)\n",
    "    upper = column.quantile(0.75) + 1.5 * stats.iqr(column)\n",
    "\n",
    "    outliers = column[(column > upper) | (column < lower)]\n",
    "    \n",
    "    if not outliers.empty:\n",
    "        return (col_name, outliers.count())\n",
    "    else:\n",
    "        return (col_name, 0)"
   ]
  },
  {
   "cell_type": "markdown",
   "metadata": {},
   "source": [
    "#### Funkcia na vypísanie a vrátenie outlier-ov."
   ]
  },
  {
   "cell_type": "code",
   "execution_count": 77,
   "metadata": {},
   "outputs": [],
   "source": [
    "def count_outliers_and_print(df, dataframe_name):\n",
    "    column_names = df.columns[3:]\n",
    "    df_count = df.shape[0]\n",
    "\n",
    "    values = []\n",
    "    \n",
    "    for col in column_names:\n",
    "        values.append(identify_outliers(df[col], col))\n",
    "    \n",
    "    sorted_outliers = sorted(values, key=lambda x: x[1], reverse=True)\n",
    "    \n",
    "    print(f\"Počet outlierov (% aj počet) pre {dataframe_name} ({df_count}):\\n\")\n",
    "    for col, count in sorted_outliers:\n",
    "        percentage = round((count / df_count) * 100, 1)\n",
    "        print(f'{col:>18}  {percentage:<4}  {count:<6}')\n",
    "    \n",
    "    return values"
   ]
  },
  {
   "cell_type": "markdown",
   "metadata": {},
   "source": [
    "#\n",
    "### Outlier-y pre `Connections`."
   ]
  },
  {
   "cell_type": "code",
   "execution_count": null,
   "metadata": {},
   "outputs": [],
   "source": [
    "con_outliers = count_outliers_and_print(con, \"Connections\")"
   ]
  },
  {
   "cell_type": "markdown",
   "metadata": {},
   "source": [
    "#### Z vypočítaných hodnôt vidíme, že atribúty DF `Connections`, až na jeden atribút, neobsahujú veľa outlier-ov.\n",
    "#### Problémový atribút je `Update_assist` s počtom outlier-ov až `15.9%` - `2379` záznamov.\n",
    "#### Rozhodli sme sa, že okrem atribútu `Update_assist`, všetkým atribútom outlier-y zmeníme na hraničné hodnoty.\n",
    "#### Na atribút `Update_assist` sa pozrieme ešte bližšie neskôr."
   ]
  },
  {
   "cell_type": "markdown",
   "metadata": {},
   "source": [
    "#\n",
    "### Outlier-y pre `Processes`."
   ]
  },
  {
   "cell_type": "code",
   "execution_count": null,
   "metadata": {},
   "outputs": [],
   "source": [
    "proc_outliers = count_outliers_and_print(proc, \"Processes\")"
   ]
  },
  {
   "cell_type": "markdown",
   "metadata": {},
   "source": [
    "#### Zo zistených hodnôt vidíme, že `Processes` nemá s outlier-mi veľký problém.\n",
    "#### Najviac outlier-ov má atribút `External_storage` - `1.7%` - `249` záznamov.\n",
    "#### Rozhodli sme sa, že každému atribútu, s `počtom outlier-ov > 0`, hodnoty outlier-ov zmeníme na hraničnú hodnotu.  "
   ]
  },
  {
   "cell_type": "markdown",
   "metadata": {},
   "source": [
    "#\n",
    "#### Funkcia na zmenu outlier-ov na hraničné hodnoty."
   ]
  },
  {
   "cell_type": "code",
   "execution_count": 80,
   "metadata": {},
   "outputs": [],
   "source": [
    "def correct_outliers_by_column(df, df_package, exceptions):\n",
    "    for data in df_package:\n",
    "        col_name = data[0]\n",
    "        count = data[1]\n",
    "\n",
    "        if col_name in exceptions: continue\n",
    "    \n",
    "        if count > 0:\n",
    "            lower = df[col_name].quantile(0.25) - 1.5 * stats.iqr(df[col_name])\n",
    "            upper = df[col_name].quantile(0.75) + 1.5 * stats.iqr(df[col_name])\n",
    "\n",
    "            df[col_name] = df[col_name].apply(\n",
    "                lambda x: lower if x < lower else upper if x > upper else x\n",
    "            )\n",
    "    \n",
    "    return df"
   ]
  },
  {
   "cell_type": "markdown",
   "metadata": {},
   "source": [
    "#\n",
    "### Zmena hodnôt outlier-ov na hraničné hodnoty pre `Connections`, okrem atribútu `Update_assist`."
   ]
  },
  {
   "cell_type": "code",
   "execution_count": 81,
   "metadata": {},
   "outputs": [],
   "source": [
    "con = correct_outliers_by_column(con, con_outliers, [\"Update_assist\"])"
   ]
  },
  {
   "cell_type": "markdown",
   "metadata": {},
   "source": [
    "#\n",
    "### Zmena hodnôt outlier-ov na hraničné hodnoty pre `Processes`."
   ]
  },
  {
   "cell_type": "code",
   "execution_count": 82,
   "metadata": {},
   "outputs": [],
   "source": [
    "proc = correct_outliers_by_column(proc, proc_outliers, [])"
   ]
  },
  {
   "cell_type": "markdown",
   "metadata": {},
   "source": [
    "#\n",
    "### Bližší pohľad na `Connections['Update_assist']`."
   ]
  },
  {
   "cell_type": "code",
   "execution_count": null,
   "metadata": {},
   "outputs": [],
   "source": [
    "y_limits = [\n",
    "    (0, 100, 10),\n",
    "    (0, 15, 1),\n",
    "    (0, 5, 0.5),\n",
    "    (0, 2, 0.2),\n",
    "    (0, 0.5, 0.05),\n",
    "    (0, 0.1, 0.01)\n",
    "]\n",
    "\n",
    "upper_border = con['Update_assist'].quantile(0.75) + 1.5 * stats.iqr(con['Update_assist'])\n",
    "\n",
    "plt.figure(figsize=(15, 7))\n",
    "\n",
    "for i, (y_min, y_max, step) in enumerate(y_limits):\n",
    "    plt.subplot(1, 6, i + 1)\n",
    "    \n",
    "    con['Update_assist'].plot(kind='box')\n",
    "    \n",
    "    plt.ylim(y_min, y_max)\n",
    "    plt.yticks(np.arange(y_min, y_max + step, step))\n",
    "\n",
    "    outliers_count = con[(con['Update_assist'] > upper_border) & (con['Update_assist'] <= y_max)].shape[0]\n",
    "    \n",
    "    plt.title(f'Outliers: {outliers_count} - {round((outliers_count/con['Update_assist'].shape[0]) * 100, 1)}%')\n",
    "\n",
    "plt.tight_layout()\n",
    "plt.show()"
   ]
  },
  {
   "cell_type": "markdown",
   "metadata": {},
   "source": [
    "### Môžeme vidieť ktoré hodnoty a aké rozmedzie outlier-y obsadzujú.\n",
    "### Po dlhšom rozhodovaní sme sa rozhodli, že odstánime outlier-y s hodnotou nad `5`.\n",
    "### Domnievame sa, že veľké množstvo outlier-ov pri tomto atribúte môže predstavovať niečo viac.\n",
    "### Konkrétne môže ísť o extrémne hodnoty, ktoré boli zaznamenané, ale nie sú chybné vzhľadom na počet.\n",
    "### Ako sme z grafov mohli vidieť tak väčšina hodnôt `con['Update_assist']` je koncentrovaná okolo hodnoty `0.01`.\n",
    "### V porovnaní, hodnota, kde začínajú outliery je `0.03` a tiahne sa až k hodnote `1.2` (4. graf zľava)\n",
    "### Odstrániť všetky outlier-y sme neuznali za vhodné ako aj nahradiť celú respektíve určitú časť na hraničnú hodnotu.\n",
    "### Veríme, že ponechať hodnoty s menšou úpravou, bude najlepšie."
   ]
  },
  {
   "cell_type": "markdown",
   "metadata": {},
   "source": [
    "#\n",
    "### Odtránenie záznamov, kde `con['Update_assist'] >= 5`."
   ]
  },
  {
   "cell_type": "code",
   "execution_count": 84,
   "metadata": {},
   "outputs": [],
   "source": [
    "con = con[con['Update_assist'] < 5].copy()"
   ]
  },
  {
   "cell_type": "markdown",
   "metadata": {},
   "source": [
    "#\n",
    "# **1.3 Formulácia a štatistické overenie hypotéz o dátach**"
   ]
  },
  {
   "cell_type": "markdown",
   "metadata": {},
   "source": [
    "#\n",
    "## *A) Sformulujte dve hypotézy o dátach v kontexte zadanej predikčnej úlohy.*"
   ]
  },
  {
   "cell_type": "markdown",
   "metadata": {},
   "source": [
    "### `Hypotéza 1`:"
   ]
  },
  {
   "cell_type": "markdown",
   "metadata": {},
   "source": [
    "#### `H0`: `con['Youtube']` má v priemere nižšiu váhu ako `con['Dogalize']` v malware-related-activity stave.\n",
    "#### `HA`: `con['Youtube']` má váhu vyššiu alebo `con['Dogalize']` má váhu nižšiu v malware-related-activity stave voči oponentovi."
   ]
  },
  {
   "cell_type": "markdown",
   "metadata": {},
   "source": [
    "#\n",
    "### Počet záznamov v `Connections`, kde `mwra=1`."
   ]
  },
  {
   "cell_type": "code",
   "execution_count": null,
   "metadata": {},
   "outputs": [],
   "source": [
    "con.query('Malware == 1').shape[0]"
   ]
  },
  {
   "cell_type": "markdown",
   "metadata": {},
   "source": [
    "### Zistíme priemernú hodnotu pre `con['Youtube']` ak `mwra=1`."
   ]
  },
  {
   "cell_type": "code",
   "execution_count": null,
   "metadata": {},
   "outputs": [],
   "source": [
    "ytb_mean = con[con['Malware'] == 1]['Youtube'].mean(); print(ytb_mean)"
   ]
  },
  {
   "cell_type": "markdown",
   "metadata": {},
   "source": [
    "### Zistíme priemernú hodnotu pre `con['Dogalize']` ak `mwra=1`."
   ]
  },
  {
   "cell_type": "code",
   "execution_count": null,
   "metadata": {},
   "outputs": [],
   "source": [
    "dogalize_mean = con[con['Malware'] == 1]['Dogalize'].mean(); print(dogalize_mean)"
   ]
  },
  {
   "cell_type": "markdown",
   "metadata": {},
   "source": [
    "### Z vypočítaných hodnôt vidíme, že priemerná hodnota `Youtube` > `Dogalize`"
   ]
  },
  {
   "cell_type": "code",
   "execution_count": null,
   "metadata": {},
   "outputs": [],
   "source": [
    "print(abs(ytb_mean - dogalize_mean))"
   ]
  },
  {
   "cell_type": "markdown",
   "metadata": {},
   "source": [
    "### Z hodnôt vyššie `H0` zamietame a prijímame `HA`."
   ]
  },
  {
   "cell_type": "markdown",
   "metadata": {},
   "source": [
    "#\n",
    "### `Hypotéza 2`:"
   ]
  },
  {
   "cell_type": "markdown",
   "metadata": {},
   "source": [
    "#### `H0`: Najsilnejšie korelácie atribútov z `Conenctions` a `Processes` s predikovanou premennou sa nezmenili o viac ako `2%`. \n",
    "#### `HA`: Najsilnejšie korelácie atribútov z `Conenctions` a `Processes` s predikovanou premennou sa zvýšili alebo znížili o viac ako `2%`."
   ]
  },
  {
   "cell_type": "markdown",
   "metadata": {},
   "source": [
    "#\n",
    "### Vypočítame vzájomné korelácie atribútov z `Conenctions` a `Processes`."
   ]
  },
  {
   "cell_type": "code",
   "execution_count": 89,
   "metadata": {},
   "outputs": [],
   "source": [
    "con_proc_new = pd.merge(con, proc, on=['DateTime', 'ID', 'Malware'], suffixes=('_Con', '_Proc'))\n",
    "\n",
    "con_proc_corr_new=con_proc_new.drop(columns=['DateTime', 'ID']).corr()"
   ]
  },
  {
   "cell_type": "markdown",
   "metadata": {},
   "source": [
    "### Vyberieme len korelácie s predikovanou premennou a graficky ich zobrazíme zoradené podľa absolútnej hodnoty."
   ]
  },
  {
   "cell_type": "code",
   "execution_count": null,
   "metadata": {},
   "outputs": [],
   "source": [
    "mwra_corr_new = con_proc_corr_new['Malware'].drop('Malware')\n",
    "\n",
    "\n",
    "mwra_corr_new = pd.DataFrame({\"values\": mwra_corr_new, \"absolute_values\": mwra_corr_new.abs()})\n",
    "mwra_corr_new.sort_values(by=[\"absolute_values\"], inplace=True, ascending=False)\n",
    "mwra_corr_new = mwra_corr_new[\"values\"]\n",
    "\n",
    "index = np.arange(len(mwra_corr_new))\n",
    "\n",
    "plt.subplots(figsize=(15, 7))\n",
    "\n",
    "plt.bar(index[mwra_corr_new >= 0], mwra_corr_new[mwra_corr_new >= 0], color=\"green\", label=\"positive\")\n",
    "plt.bar(index[mwra_corr_new < 0], mwra_corr_new[mwra_corr_new < 0], color=\"red\", label=\"negative\")\n",
    "\n",
    "plt.xticks(index, mwra_corr_new.index, rotation=90)\n",
    "plt.yticks(np.arange(-0.6, 0.7, 0.1))\n",
    "plt.title('Bar Plot kladných a negatívnych korelácií.')\n",
    "plt.ylabel(\"Hodnoty korelácie\")\n",
    "plt.legend()\n",
    "plt.show()"
   ]
  },
  {
   "cell_type": "markdown",
   "metadata": {},
   "source": [
    "### Vidíme, že poradie 9 najsilnejších korelácií s predikovanou premennou zostalo rovnaké.\n",
    "### Na základe toho, môžeme priamo porovnať tieto korelácie s pôvodnými koreláciami."
   ]
  },
  {
   "cell_type": "markdown",
   "metadata": {},
   "source": [
    "#\n",
    "### Pre lepšie porovnanie rozdielov korelácií sme vypočítané hodnoty zobrazili číselne."
   ]
  },
  {
   "cell_type": "code",
   "execution_count": null,
   "metadata": {},
   "outputs": [],
   "source": [
    "print(f'{\"attribute\":>14} {\"before\":>23} {\"now\":>10} {\"diff\":>12} {\"% diff\":>10}\\n')\n",
    "i=0\n",
    "for i in range(len(mwra_corr.index)):\n",
    "    name = mwra_corr.index[i]\n",
    "\n",
    "    difference = abs(mwra_corr_new.iloc[i]-mwra_corr.iloc[i])\n",
    "    percent_diff = abs(difference / mwra_corr.iloc[i] * 100)\n",
    "\n",
    "    prefix = \"-\" if mwra_corr_new.iloc[i] < 0 else \" \"\n",
    "\n",
    "    print(f'{name:<27} |  {prefix}{abs(mwra_corr.iloc[i]):.5f}  |  {abs(mwra_corr_new.iloc[i]):.5f}  |  {difference:.5f}  |  {percent_diff:.1f}')\n",
    "\n",
    "    i+=1\n",
    "    if i==9:\n",
    "        break"
   ]
  },
  {
   "cell_type": "markdown",
   "metadata": {},
   "source": [
    "### Z hodnôt vidíme, že percentuálny rozdiel v koreláciách je menší ako `1%`.\n",
    "### Na základe toho `H0` neodmietame."
   ]
  },
  {
   "cell_type": "markdown",
   "metadata": {},
   "source": [
    "#\n",
    "## *B) Overte či Vaše štatistické testy majú dostatočne silnú štatistickú silu.*"
   ]
  },
  {
   "cell_type": "markdown",
   "metadata": {},
   "source": [
    "### Veľkosti vzoriek:\n",
    "- #### Pri `Hypotéze 1`, kde je vzorka DF `Connections` sme počas EDA odstránili celkovo 22 záznamov. Takisto sme v `Youtube` 37 outlier-ov zmenili na hraničné hodnoty a v `Dogalize` 35 outlier-ov. Pri celkovom počte záznamov `14 961` to predstavuje nízky vplyv.\n",
    "###\n",
    "- #### Pri `Hypotéze 2`, kde sme analyzovali atribúty z DF `Connections` (14961 záz.) a `Processes` (14983 záz.), sa veľkosť vzorky zmenila rovnako ako v `Hyp. 1` len pre `Connections`. Takisto sme v `Processes` v 9 atribútoch menili hodnoty outlier-ov na hraničné hodnoty. Počet outlierov však nepresiahol `2%` v každom atribúte.\n",
    "###\n",
    "### Nevidíme dôvod, aby naše testy nemali nedostatočnú štatistickú silu."
   ]
  },
  {
   "cell_type": "markdown",
   "metadata": {},
   "source": [
    "#\n",
    "# EXTRA"
   ]
  },
  {
   "cell_type": "code",
   "execution_count": 92,
   "metadata": {},
   "outputs": [],
   "source": [
    "# con.to_csv('dataset82_edited/Connections.csv', index=False)\n",
    "# proc.to_csv('dataset82_edited/Processes.csv', index=False)\n",
    "# dev.to_csv('dataset82_edited/Devices.csv', index=False)\n",
    "# prof.to_csv('dataset82_edited/Profiles.csv', index=False)"
   ]
  }
 ],
 "metadata": {
  "kernelspec": {
   "display_name": "Python 3",
   "language": "python",
   "name": "python3"
  },
  "language_info": {
   "codemirror_mode": {
    "name": "ipython",
    "version": 3
   },
   "file_extension": ".py",
   "mimetype": "text/x-python",
   "name": "python",
   "nbconvert_exporter": "python",
   "pygments_lexer": "ipython3",
   "version": "3.12.5"
  }
 },
 "nbformat": 4,
 "nbformat_minor": 2
}
