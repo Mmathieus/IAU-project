{
 "cells": [
  {
   "cell_type": "markdown",
   "metadata": {},
   "source": [
    "# **Róbert Šafár** & **Matúš Totcimak**\n",
    "## 2. fáza: *Predspracovanie údajov*\n",
    "#### Dataset 82\n",
    "#### Podiel práce 0:0\n",
    "#\n",
    "#"
   ]
  },
  {
   "cell_type": "code",
   "execution_count": 1,
   "metadata": {},
   "outputs": [],
   "source": [
    "import matplotlib.pyplot as plt\n",
    "import seaborn as sns\n",
    "import pandas as pd\n",
    "import numpy as np\n",
    "import scipy.stats as stats\n",
    "import statsmodels.api as sm\n",
    "import re\n",
    "from sklearn.model_selection import train_test_split"
   ]
  },
  {
   "cell_type": "markdown",
   "metadata": {},
   "source": [
    "## Načítanie CSV súborov"
   ]
  },
  {
   "cell_type": "code",
   "execution_count": 2,
   "metadata": {},
   "outputs": [],
   "source": [
    "con = pd.read_csv(\"dataset82/connections.csv\", sep='\\t')\n",
    "proc = pd.read_csv(\"dataset82/processes.csv\", sep='\\t')\n",
    "dev = pd.read_csv(\"dataset82/devices.csv\", sep='\\t')\n",
    "prof = pd.read_csv(\"dataset82/profiles.csv\", sep='\\t')"
   ]
  },
  {
   "cell_type": "markdown",
   "metadata": {},
   "source": [
    "#\n",
    "# **2.1 Realizácia predspracovania dát**"
   ]
  },
  {
   "cell_type": "markdown",
   "metadata": {},
   "source": [
    "### Ná základe prvej fázy nebudeme pracovať s `Devices` a `Profiles`.\n",
    "### Nedokážeme jednoznačne priradiť záznam z `Connections` a `Processes` ku záznamu v `Devices` a `Profiles`, pretože viacero `imei` je súčasťou viacerých záznamov vo všetkých DF a je jediným spojením medzi `Connections`/`Processes` a `Devices`/`Profiles` v priemere 5 rôznych záznamov v `Devices` a `Profiles` a , a teda nevieme presne určíť ktoré záznamy k sebe patria.\n",
    "### Tento fakt sme zistili už v prvej fáze analýzy `EDA`."
   ]
  },
  {
   "cell_type": "code",
   "execution_count": 14,
   "metadata": {},
   "outputs": [],
   "source": [
    "pd.set_option('display.max_columns', None)"
   ]
  },
  {
   "cell_type": "markdown",
   "metadata": {},
   "source": [
    "#\n",
    "## *A) Rozdelenie dát na trénovaciu a testovaciu množinu.*"
   ]
  },
  {
   "cell_type": "markdown",
   "metadata": {},
   "source": [
    "### Pred spojením `Connections` a `Processes` odstránime duplikátne záznamy."
   ]
  },
  {
   "cell_type": "code",
   "execution_count": 3,
   "metadata": {},
   "outputs": [],
   "source": [
    "con = con.loc[~con.duplicated()].reset_index(drop=True).copy()\n",
    "proc = proc.loc[~proc.duplicated()].reset_index(drop=True).copy()"
   ]
  },
  {
   "cell_type": "markdown",
   "metadata": {},
   "source": [
    "### Spojenie `Connections` a `Processes`. Rovnako ako vo Fáze 1."
   ]
  },
  {
   "cell_type": "code",
   "execution_count": 4,
   "metadata": {},
   "outputs": [],
   "source": [
    "df = pd.merge(con, proc, on=['ts', 'imei', 'mwra'])"
   ]
  },
  {
   "cell_type": "markdown",
   "metadata": {},
   "source": [
    "### Nový DF rozdelíme na `X` a `y`."
   ]
  },
  {
   "cell_type": "code",
   "execution_count": null,
   "metadata": {},
   "outputs": [],
   "source": [
    "X = df.drop(columns=['mwra'])\n",
    "y = df[['mwra']]"
   ]
  },
  {
   "cell_type": "markdown",
   "metadata": {},
   "source": [
    "### Pomer rozdelenia máme `80:20`."
   ]
  },
  {
   "cell_type": "code",
   "execution_count": null,
   "metadata": {},
   "outputs": [],
   "source": [
    "X_train, X_test, y_train, y_test = train_test_split(X, y, random_state=11, test_size=0.2)"
   ]
  },
  {
   "cell_type": "markdown",
   "metadata": {},
   "source": [
    "#\n",
    "## *B) Transformujte dáta na vhodný formát pre ML.*"
   ]
  },
  {
   "cell_type": "markdown",
   "metadata": {},
   "source": [
    "### Overenie chýbajúcich hodnôt. Z `EDA` však už vieme, že žiadne nie sú."
   ]
  },
  {
   "cell_type": "code",
   "execution_count": 27,
   "metadata": {},
   "outputs": [
    {
     "data": {
      "text/plain": [
       "Series([], dtype: int64)"
      ]
     },
     "execution_count": 27,
     "metadata": {},
     "output_type": "execute_result"
    }
   ],
   "source": [
    "X_train.isna().sum()[X_train.isna().sum() > 0]"
   ]
  },
  {
   "cell_type": "code",
   "execution_count": null,
   "metadata": {},
   "outputs": [],
   "source": [
    "sorted_ids = sorted(df['imei'].unique())\n",
    "for i in sorted_ids:\n",
    "    print(i)"
   ]
  },
  {
   "cell_type": "markdown",
   "metadata": {},
   "source": [
    "### OneHotEncoder(vsetky kategorie ako stlpce -> 0/1) | OrdinalEncoder(uviest, konkretne moznosti daneho stlpca -> S M L)"
   ]
  },
  {
   "cell_type": "markdown",
   "metadata": {},
   "source": [
    "### Treba imei?"
   ]
  },
  {
   "cell_type": "markdown",
   "metadata": {},
   "source": [
    "### Upravit TS"
   ]
  },
  {
   "cell_type": "markdown",
   "metadata": {},
   "source": [
    "### Upravit IMEI -> OrdinalEncoder"
   ]
  },
  {
   "cell_type": "markdown",
   "metadata": {},
   "source": [
    "### Upravit MWRA na int"
   ]
  },
  {
   "cell_type": "code",
   "execution_count": null,
   "metadata": {},
   "outputs": [],
   "source": [
    "X_train.head()"
   ]
  },
  {
   "cell_type": "markdown",
   "metadata": {},
   "source": [
    "#\n",
    "## *C) Transformujte atribúty dát pre strojové učenie.*"
   ]
  },
  {
   "cell_type": "markdown",
   "metadata": {},
   "source": [
    "### Scaling: StandardScaler(mean=0, sd=1) | MinMaxScaler(range(0,1))"
   ]
  },
  {
   "cell_type": "markdown",
   "metadata": {},
   "source": [
    "### Transform: Logaritmická transformácia | "
   ]
  },
  {
   "cell_type": "markdown",
   "metadata": {},
   "source": [
    "## *D) Zdôvodnite Vaše voľby/rozhodnutie pre realizáciu.*"
   ]
  },
  {
   "cell_type": "markdown",
   "metadata": {},
   "source": [
    "#\n",
    "# **2.2 Výber atribútov pre strojové učenie**"
   ]
  }
 ],
 "metadata": {
  "kernelspec": {
   "display_name": "Python 3",
   "language": "python",
   "name": "python3"
  },
  "language_info": {
   "codemirror_mode": {
    "name": "ipython",
    "version": 3
   },
   "file_extension": ".py",
   "mimetype": "text/x-python",
   "name": "python",
   "nbconvert_exporter": "python",
   "pygments_lexer": "ipython3",
   "version": "3.12.5"
  }
 },
 "nbformat": 4,
 "nbformat_minor": 2
}
